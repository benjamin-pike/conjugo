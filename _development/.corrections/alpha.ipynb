{
 "cells": [
  {
   "cell_type": "code",
   "execution_count": null,
   "metadata": {},
   "outputs": [],
   "source": [
    "# Iterate through conjugations and print those that contain non-alpha characters"
   ]
  },
  {
   "cell_type": "code",
   "execution_count": 2,
   "metadata": {},
   "outputs": [],
   "source": [
    "import os\n",
    "import json"
   ]
  },
  {
   "cell_type": "code",
   "execution_count": 3,
   "metadata": {},
   "outputs": [],
   "source": [
    "top_dir = os.path.abspath('').replace('.corrections', '')\n",
    "conjugations_data_dir = os.path.join(top_dir, 'conjugations', 'data', 'language-specific')"
   ]
  },
  {
   "cell_type": "code",
   "execution_count": 4,
   "metadata": {},
   "outputs": [],
   "source": [
    "language = 'portuguese'"
   ]
  },
  {
   "cell_type": "code",
   "execution_count": 5,
   "metadata": {},
   "outputs": [],
   "source": [
    "with open(os.path.join(conjugations_data_dir, f'conjugations_{language}.json'), 'r', encoding = 'utf8') as file:\n",
    "    conjugations = json.loads(file.read())"
   ]
  },
  {
   "cell_type": "code",
   "execution_count": 9,
   "metadata": {},
   "outputs": [],
   "source": [
    "for verb in conjugations:\n",
    "    for complexity in ['simple', 'compound']:\n",
    "        for mood in conjugations[verb][complexity]:\n",
    "            for tense in conjugations[verb][complexity][mood]:\n",
    "                for subject in conjugations[verb][complexity][mood][tense]:\n",
    "                    c = conjugations[verb][complexity][mood][tense][subject]\n",
    "\n",
    "                    if not c.replace(' ','').replace(\"'\", '').isalpha():\n",
    "\n",
    "                        print(verb, c)     \n",
    "                        \n",
    "                        if language in ['german', 'portuguese']:\n",
    "                            nc = c.split('/')[0]\n",
    "\n",
    "                            if ' nicht' in c:\n",
    "                                nc += ' nicht'\n",
    "\n",
    "                            conjugations[verb][complexity][mood][tense][subject] = nc"
   ]
  },
  {
   "cell_type": "code",
   "execution_count": null,
   "metadata": {},
   "outputs": [],
   "source": [
    "if language == 'italian':\n",
    "    for verb in conjugations:\n",
    "        for complexity in ['simple', 'compound', 'progressive']:\n",
    "            for mood in conjugations[verb][complexity]:\n",
    "                for tense in conjugations[verb][complexity][mood]:\n",
    "                    if '__' in conjugations[verb][complexity][mood][tense]['lei']:\n",
    "                        conjugations[verb][complexity][mood][tense]['lui'] = conjugations[verb][complexity][mood][tense]['lui'].split('__')[0]\n",
    "                        conjugations[verb][complexity][mood][tense]['lei'] = conjugations[verb][complexity][mood][tense]['lei'].split('__')[1]"
   ]
  },
  {
   "cell_type": "code",
   "execution_count": 12,
   "metadata": {},
   "outputs": [
    {
     "name": "stdout",
     "output_type": "stream",
     "text": [
      "morrido; morto\n",
      "matado; morto\n",
      "pagado; pago\n",
      "ganhado; ganho\n",
      "salvado; salvo\n",
      "aceitado; aceito\n",
      "entregado; entregue\n",
      "prendido; preso\n",
      "gastado; gasto\n",
      "soltado; solto\n",
      "arrependido; arrepenso\n",
      "expulsado; expulso\n",
      "expressado; expresso\n",
      "imprimido; impresso\n",
      "suspendido; suspenso\n",
      "inserido; inserto\n",
      "exprimido; expresso\n",
      "candidatado; candidorto\n",
      "emergido; emerso\n",
      "dispersado; disperso\n",
      "elegido; eleito\n",
      "submergido; submerso\n",
      "extinguido; extinto\n",
      "omitido; omisso\n",
      "sujeitado; sujeito\n",
      "imergido; imerso\n",
      "colmatado; colmorto\n",
      "espevitado; espevito\n",
      "reelegido; reeleito\n",
      "amanhado; amanho\n",
      "emprenhado; emprenho\n",
      "entranhado; entranho\n",
      "apostatado; apostorto\n",
      "reaproveitado; reaproveito\n",
      "desalinhado; desalinho\n",
      "reimprimido; reimpresso\n",
      "alcovitado; alcovito\n",
      "aparatado; aparorto\n",
      "gravitado; gravito\n",
      "refratado; refrorto\n",
      "frigido; frito\n",
      "acanhado; acanho\n",
      "chibatado; chiborto\n",
      "explicitado; explicito\n",
      "engalfinhado; engalfinho\n",
      "despeitado; despeito\n",
      "reprocessado; reprocesso\n",
      "esparrinhado; esparrinho\n",
      "espessado; espesso\n",
      "remoinhado; remoinho\n",
      "contraditado; contradito\n",
      "reganhado; reganho\n",
      "circuitado; circuito\n",
      "endemoninhado; endemoninho\n",
      "enfarinhado; enfarinho\n",
      "crocitado; crocito\n",
      "retuitado; retuito\n",
      "alcunhado; alcunho\n",
      "antedatado; antedorto\n",
      "ingurgitado; ingurgito\n",
      "maniatado; maniorto\n",
      "conflitado; conflito\n"
     ]
    }
   ],
   "source": [
    "for verb in conjugations:\n",
    "    for tense in conjugations[verb]['participle']:\n",
    "        if not conjugations[verb]['participle'][tense].isalpha():\n",
    "            participle = conjugations[verb]['participle'][tense]\n",
    "            if participle.isalpha() == False:\n",
    "                print(participle)\n",
    "            \n",
    "                # conjugations[verb]['participle'][tense] = participle.split(';')[0].split('/')[0]\n",
    "                conjugations[verb]['participle'][tense] = participle.replace('/', '; ')"
   ]
  },
  {
   "cell_type": "code",
   "execution_count": 13,
   "metadata": {},
   "outputs": [],
   "source": [
    "with open(os.path.join(conjugations_data_dir, f'conjugations_{language}.json'), 'w', encoding = 'utf8') as file:\n",
    "    json.dump(conjugations, file, indent = 4, ensure_ascii = False)"
   ]
  }
 ],
 "metadata": {
  "interpreter": {
   "hash": "9596ba951ddb21d01b6d37648fb60066e40c7f4a0a12dddda8d43c6adacb1362"
  },
  "kernelspec": {
   "display_name": "Python 3.8.8 ('base')",
   "language": "python",
   "name": "python3"
  },
  "language_info": {
   "codemirror_mode": {
    "name": "ipython",
    "version": 3
   },
   "file_extension": ".py",
   "mimetype": "text/x-python",
   "name": "python",
   "nbconvert_exporter": "python",
   "pygments_lexer": "ipython3",
   "version": "3.8.8"
  },
  "orig_nbformat": 4
 },
 "nbformat": 4,
 "nbformat_minor": 2
}
