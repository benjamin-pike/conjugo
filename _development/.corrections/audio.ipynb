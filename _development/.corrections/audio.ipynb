{
 "cells": [
  {
   "cell_type": "code",
   "execution_count": 1,
   "metadata": {},
   "outputs": [],
   "source": [
    "import os\n",
    "import bs4\n",
    "import json\n",
    "import time\n",
    "import lxml\n",
    "import base64\n",
    "import requests\n",
    "from google.cloud import texttospeech_v1beta1\n",
    "from IPython.display import clear_output as clear"
   ]
  },
  {
   "cell_type": "code",
   "execution_count": 2,
   "metadata": {},
   "outputs": [],
   "source": [
    "language = 'portuguese'"
   ]
  },
  {
   "cell_type": "code",
   "execution_count": 3,
   "metadata": {},
   "outputs": [],
   "source": [
    "top_dir = os.path.abspath('').replace('corrections', '')\n",
    "conjugations_data_dir = os.path.join(top_dir, 'conjugations', 'data', 'language-specific')\n",
    "audio_data_dir = os.path.join(top_dir, 'audio', 'data')\n",
    "audio_out_dir = os.path.join(top_dir, 'audio', 'out')"
   ]
  },
  {
   "cell_type": "code",
   "execution_count": 4,
   "metadata": {},
   "outputs": [],
   "source": [
    "os.environ['GOOGLE_APPLICATION_CREDENTIALS'] = os.path.join(audio_data_dir, 'gckey.json')"
   ]
  },
  {
   "cell_type": "code",
   "execution_count": 5,
   "metadata": {},
   "outputs": [],
   "source": [
    "class nestedDict(dict):\n",
    "    def __missing__(self, key):\n",
    "        value = self[key] = type(self)()\n",
    "        return value"
   ]
  },
  {
   "cell_type": "code",
   "execution_count": 6,
   "metadata": {},
   "outputs": [],
   "source": [
    "def ttsSynthesize(phrase, language_code, voice_name):\n",
    "    client = texttospeech_v1beta1.TextToSpeechClient()\n",
    "\n",
    "    input = texttospeech_v1beta1.SynthesisInput()\n",
    "    input.text = phrase\n",
    "\n",
    "    voice = texttospeech_v1beta1.VoiceSelectionParams()\n",
    "    voice.language_code = language_code\n",
    "    voice.name = voice_name\n",
    "\n",
    "    audio_config = texttospeech_v1beta1.AudioConfig()\n",
    "    audio_config.audio_encoding = \"MP3_64_KBPS\"\n",
    "    audio_config.sample_rate_hertz = 44100\n",
    "\n",
    "    request = texttospeech_v1beta1.SynthesizeSpeechRequest(\n",
    "        input = input,\n",
    "        voice = voice,\n",
    "        audio_config = audio_config,\n",
    "    )\n",
    "\n",
    "    response = client.synthesize_speech(request = request)\n",
    "\n",
    "    return str(base64.b64encode(response.audio_content))[2:-1]"
   ]
  },
  {
   "cell_type": "code",
   "execution_count": 7,
   "metadata": {},
   "outputs": [],
   "source": [
    "voices = {\n",
    "    'spanish': 'es-ES-Wavenet-B',\n",
    "    'french': 'fr-FR-Wavenet-D',\n",
    "    'german': 'de-DE-Wavenet-B',\n",
    "    'italian': 'it-IT-Wavenet-C',\n",
    "    'portuguese': 'pt-PT-Wavenet-B',\n",
    "}\n",
    "\n",
    "language_codes = {\n",
    "    'spanish': 'es_ES',\n",
    "    'french': 'fr_FR',\n",
    "    'german': 'de_DE',\n",
    "    'italian': 'it_IT',\n",
    "    'portuguese': 'pt_PT'\n",
    "}"
   ]
  },
  {
   "cell_type": "code",
   "execution_count": 8,
   "metadata": {},
   "outputs": [],
   "source": [
    "with open(os.path.join(conjugations_data_dir, f'conjugations_{language}.json'), 'r', encoding = 'utf8') as file:\n",
    "    conjugations = json.loads(file.read())"
   ]
  },
  {
   "cell_type": "code",
   "execution_count": 9,
   "metadata": {},
   "outputs": [],
   "source": [
    "with open(os.path.join(audio_out_dir, f'audio_{language}.json'), 'r', encoding = 'utf8') as file:\n",
    "    audio = json.loads(file.read())"
   ]
  },
  {
   "cell_type": "code",
   "execution_count": 10,
   "metadata": {},
   "outputs": [
    {
     "name": "stdout",
     "output_type": "stream",
     "text": [
      "105\n"
     ]
    }
   ],
   "source": [
    "new_audio = {}\n",
    "no_audio = []\n",
    "\n",
    "for verb in conjugations:\n",
    "    if conjugations[verb]['rank'] < 2001:\n",
    "        if verb in audio.keys():\n",
    "            new_audio[verb] = audio[verb]\n",
    "        else:\n",
    "            no_audio.append(verb)\n",
    "\n",
    "new_audio = nestedDict(new_audio)\n",
    "current = conjugations[no_audio[0]]['rank']\n",
    "\n",
    "print(len(no_audio))"
   ]
  },
  {
   "cell_type": "code",
   "execution_count": 11,
   "metadata": {},
   "outputs": [
    {
     "name": "stdout",
     "output_type": "stream",
     "text": [
      "afazer (2000) – 100.0%\n"
     ]
    }
   ],
   "source": [
    "while len(new_audio) < 2000:\n",
    "    \n",
    "    try:\n",
    "        for verb in no_audio:\n",
    "            if conjugations[verb]['rank'] == current:\n",
    "                for complexity in ['simple', 'compound', 'progressive']:\n",
    "                    if complexity in conjugations[verb]:\n",
    "                        for mood in conjugations[verb][complexity]:\n",
    "                            for tense in conjugations[verb][complexity][mood]:\n",
    "\n",
    "                                collated = {}\n",
    "\n",
    "                                for subject in conjugations[verb][complexity][mood][tense]:\n",
    "                                    \n",
    "                                    conjugation = conjugations[verb][complexity][mood][tense][subject]\n",
    "\n",
    "                                    if conjugation not in collated.keys():\n",
    "                                        collated[conjugation] = ttsSynthesize(conjugation, language_codes[language], voices[language])\n",
    "                                \n",
    "                                new_audio[verb][complexity][mood][tense] = collated\n",
    "                \n",
    "                clear(); print(f'{verb} ({conjugations[verb][\"rank\"]}) – {round(current / 20, 3)}%')\n",
    "                \n",
    "                current += 1\n",
    "\n",
    "    except Exception as ex:\n",
    "        clear(); print(f'ERROR {ex} – SLEEEPING FOR 2 MINUTES')\n",
    "        time.sleep(120)"
   ]
  },
  {
   "cell_type": "code",
   "execution_count": 12,
   "metadata": {},
   "outputs": [],
   "source": [
    "if len(new_audio) == 2000:\n",
    "    with open(os.path.join(audio_out_dir, f'audio_{language}.json'), 'w', encoding = 'utf8') as file:\n",
    "        json.dump(new_audio, file, indent = 4, ensure_ascii = False)"
   ]
  }
 ],
 "metadata": {
  "interpreter": {
   "hash": "9596ba951ddb21d01b6d37648fb60066e40c7f4a0a12dddda8d43c6adacb1362"
  },
  "kernelspec": {
   "display_name": "Python 3.8.8 ('base')",
   "language": "python",
   "name": "python3"
  },
  "language_info": {
   "codemirror_mode": {
    "name": "ipython",
    "version": 3
   },
   "file_extension": ".py",
   "mimetype": "text/x-python",
   "name": "python",
   "nbconvert_exporter": "python",
   "pygments_lexer": "ipython3",
   "version": "3.8.8"
  },
  "orig_nbformat": 4
 },
 "nbformat": 4,
 "nbformat_minor": 2
}
