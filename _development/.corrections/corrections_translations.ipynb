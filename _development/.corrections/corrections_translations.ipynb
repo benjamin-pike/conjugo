{
 "cells": [
  {
   "cell_type": "code",
   "execution_count": null,
   "metadata": {},
   "outputs": [],
   "source": [
    "import os\n",
    "import bs4\n",
    "import json\n",
    "import time\n",
    "import lxml\n",
    "import requests\n",
    "import cloudscraper\n",
    "from random import randint\n",
    "from fake_useragent import UserAgent\n",
    "from IPython.display import clear_output as clear"
   ]
  },
  {
   "cell_type": "code",
   "execution_count": null,
   "metadata": {},
   "outputs": [],
   "source": [
    "language = 'french'\n",
    "ua = UserAgent()"
   ]
  },
  {
   "cell_type": "code",
   "execution_count": null,
   "metadata": {},
   "outputs": [],
   "source": [
    "top_dir = os.path.abspath('').replace('corrections', '')\n",
    "conjugations_data_dir = os.path.join(top_dir, 'conjugations', 'data', 'language-specific')"
   ]
  },
  {
   "cell_type": "code",
   "execution_count": null,
   "metadata": {},
   "outputs": [],
   "source": [
    "headers = {\"accept\": \"text/html,application/xhtml+xml,application/xml;q=0.9,image/avif,image/webp,image/apng,*/*;q=0.8,application/signed-exchange;v=b3;q=0.9\",\n",
    "           \"accept-encoding\": \"gzip, deflate, br\",\n",
    "           \"accept-language\": \"en-GB,en;q=0.9,es-ES;q=0.8,es;q=0.7,en-US;q=0.6,eu;q=0.5\",\n",
    "           \"cache-control\": \"max-age=0\",\n",
    "           \"cookie\": \"t=238707487; _ga=GA1.2.1376835774.1641262578; _gid=GA1.2.1482423077.1641262578; _fbp=fb.1.1641262579526.851471446\",\n",
    "           \"referer\": \"https://hidemy.name/en/proxy-list/?start=64\",\n",
    "           \"sec-ch-ua-mobile\": \"?0\",\n",
    "           \"sec-ch-ua-platform\": \"macOS\",\n",
    "           \"sec-fetch-dest\": \"document\",\n",
    "           \"sec-fetch-mode\": \"navigate\",\n",
    "           \"sec-fetch-site\": \"same-origin\",\n",
    "           \"sec-fetch-user\": \"?1\",\n",
    "           \"upgrade-insecure-requests\": \"1\",\n",
    "           \"user-agent\": \"Mozilla/5.0 (Macintosh; Intel Mac OS X 10_15_7) AppleWebKit/537.36 (KHTML, like Gecko) Chrome/96.0.4664.110 Safari/537.36\"}"
   ]
  },
  {
   "cell_type": "code",
   "execution_count": null,
   "metadata": {},
   "outputs": [],
   "source": [
    "def getSpanishDictTranslations(verb):\n",
    "    output = []\n",
    "\n",
    "    request = requests.get(f\"https://www.spanishdict.com/translate/{verb}\")\n",
    "    soup = bs4.BeautifulSoup(request.text, \"lxml\")\n",
    "\n",
    "    if not soup.select('._25QSB23Y'):\n",
    "\n",
    "        for i in range(0, len(soup.select(\"._2vd6M2gR\"))):\n",
    "            entry = soup.select(\"._2vd6M2gR\")[i].getText()\n",
    "\n",
    "            if entry[0:3] == \"to \" and entry[3:] not in output:\n",
    "                if entry[3:].replace(' ','').isalpha():\n",
    "                    output.append(entry[3:])\n",
    "\n",
    "        for i in range(0, len(soup.select(\".gram_cat\"))):\n",
    "            block = soup.select(\".gram_cat\")[i]\n",
    "\n",
    "            if verb + 'se' not in block.getText():\n",
    "\n",
    "                for i in range(0, len(block.select(\".tran_main\"))):\n",
    "                    entry = block.select(\".tran_main\")[i].getText()\n",
    "\n",
    "                    if entry[0:3] == \"to \" and entry[3:] not in output:\n",
    "                        if entry[3:].replace(' ','').isalpha():\n",
    "                            output.append(entry[3:])\n",
    "        \n",
    "    return output"
   ]
  },
  {
   "cell_type": "code",
   "execution_count": null,
   "metadata": {},
   "outputs": [],
   "source": [
    "with open(os.path.join(conjugations_data_dir, f'conjugations_{language}.json'), 'r', encoding = 'utf8') as file:\n",
    "    conjugations = json.loads(file.read())"
   ]
  },
  {
   "cell_type": "code",
   "execution_count": null,
   "metadata": {},
   "outputs": [],
   "source": [
    "data = {}"
   ]
  },
  {
   "cell_type": "code",
   "execution_count": null,
   "metadata": {},
   "outputs": [],
   "source": [
    "current = 1"
   ]
  },
  {
   "cell_type": "code",
   "execution_count": null,
   "metadata": {},
   "outputs": [],
   "source": [
    "for verb in conjugations:\n",
    "\n",
    "    if conjugations[verb]['rank'] == current:\n",
    "\n",
    "        retries = 1\n",
    "\n",
    "        while True:\n",
    "            try:\n",
    "                url = f'https://www.collinsdictionary.com/dictionary/{language}-english/{verb}'\n",
    "                scraper = cloudscraper.create_scraper(\n",
    "                    browser={\n",
    "                        'browser': 'firefox',\n",
    "                        'platform': 'windows',\n",
    "                        'mobile': False\n",
    "                    })\n",
    "                soup = bs4.BeautifulSoup(scraper.get(url, headers = {\"useragent\": f\"{ua.random}\"}).text, 'lxml')\n",
    "\n",
    "                if 'Cloudflare' not in soup.select('title')[0].getText():\n",
    "                    translations = []\n",
    "\n",
    "                    for section in soup.select('.page .dictionary .hom'):\n",
    "                        if section.select('.hi.rend-sc.pos'):\n",
    "                            section_type = section.select('.hi.rend-sc.pos')[0]\n",
    "                            \n",
    "                            if 'verb' in section_type.getText() and 'adverb' not in section_type.getText():\n",
    "                                for entry in section.select('.sense:not(.type-example)>.cit.type-translation .quote'):\n",
    "                                    translation = entry.getText()\n",
    "                                    \n",
    "                                    if translation[:3] == 'to ':\n",
    "                                        translation = translation[3:]\n",
    "                                    \n",
    "                                    if translation.replace(' ','').isalpha() and translation not in translations:\n",
    "                                        translations.append(translation)\n",
    "\n",
    "                    data[verb] = translations\n",
    "\n",
    "                    clear(); print(f'{verb} ({conjugations[verb][\"rank\"]}) - complete ({len(translations)})')\n",
    "                    break\n",
    "\n",
    "                else:\n",
    "                    clear(); print(f'{verb} ({conjugations[verb][\"rank\"]}) - retrying ({retries})')\n",
    "                    retries += 1\n",
    "\n",
    "            except Exception as ex:\n",
    "                data[verb] = []\n",
    "                clear(); print(f'{verb} ({conjugations[verb][\"rank\"]}) - error ({ex})')\n",
    "                break\n",
    "\n",
    "        current += 1\n",
    "\n",
    "        time.sleep(randint(10000, 20000) / 1000)"
   ]
  },
  {
   "cell_type": "code",
   "execution_count": null,
   "metadata": {},
   "outputs": [],
   "source": [
    "with open(os.path.join(top_dir, 'corrections', 'out', f'translations_{language}.json'), 'w', encoding = 'utf8') as file:\n",
    "    json.dump(data, file, indent = 4, ensure_ascii = False)"
   ]
  },
  {
   "cell_type": "code",
   "execution_count": null,
   "metadata": {},
   "outputs": [],
   "source": [
    "if language == 'spanish':\n",
    "\n",
    "    with open(os.path.join(top_dir, 'corrections', 'out', f'translations_spanish.json'), 'r', encoding = 'utf8') as file:\n",
    "        data = json.loads(file.read())\n",
    "\n",
    "    combined = {}\n",
    "\n",
    "    for verb in data:\n",
    "        spanishdict = getSpanishDictTranslations(verb)\n",
    "        collins = data[verb][::-1]\n",
    "\n",
    "        output = spanishdict\n",
    "\n",
    "        for n in range(0, len(collins)):\n",
    "            \n",
    "            if collins[n] not in output:\n",
    "                iterate = True\n",
    "                x = n\n",
    "\n",
    "                while iterate:\n",
    "                    if collins[x] in output:\n",
    "                        for i in range(0, len(output)):\n",
    "                            if output[i] == collins[x]:\n",
    "                                output.insert(i + 1, collins[n])\n",
    "                                iterate = False\n",
    "                                break\n",
    "                    else:\n",
    "                        if x == 0:\n",
    "                            iterate = False\n",
    "                        else:\n",
    "                            x -= 1\n",
    "            \n",
    "            if collins[n] not in output:\n",
    "                output.append(collins[n])\n",
    "\n",
    "        combined[verb] = output\n",
    "        \n",
    "        clear(); print(f'{verb} ({conjugations[verb][\"rank\"]}) - complete ({len(collins)} -> {len(output)})')\n",
    "\n",
    "    with open(os.path.join(top_dir, 'corrections', 'out', f'translations_{language}.json'), 'w', encoding = 'utf8') as file:\n",
    "        json.dump(combined, file, indent = 4, ensure_ascii = False)"
   ]
  }
 ],
 "metadata": {
  "interpreter": {
   "hash": "9596ba951ddb21d01b6d37648fb60066e40c7f4a0a12dddda8d43c6adacb1362"
  },
  "kernelspec": {
   "display_name": "Python 3.8.8 ('base')",
   "language": "python",
   "name": "python3"
  },
  "language_info": {
   "codemirror_mode": {
    "name": "ipython",
    "version": 3
   },
   "file_extension": ".py",
   "mimetype": "text/x-python",
   "name": "python",
   "nbconvert_exporter": "python",
   "pygments_lexer": "ipython3",
   "version": "3.8.8"
  },
  "orig_nbformat": 4
 },
 "nbformat": 4,
 "nbformat_minor": 2
}
