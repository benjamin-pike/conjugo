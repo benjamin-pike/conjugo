{
 "cells": [
  {
   "cell_type": "code",
   "execution_count": 1,
   "metadata": {},
   "outputs": [],
   "source": [
    "import os\n",
    "import json\n",
    "import time\n",
    "import base64\n",
    "from pathlib import Path\n",
    "from google.cloud import texttospeech_v1beta1\n",
    "from IPython.display import clear_output as clear"
   ]
  },
  {
   "cell_type": "code",
   "execution_count": 2,
   "metadata": {},
   "outputs": [],
   "source": [
    "language = 'portuguese'"
   ]
  },
  {
   "cell_type": "code",
   "execution_count": 3,
   "metadata": {},
   "outputs": [],
   "source": [
    "path = os.path.abspath('').replace('scripts', '')\n",
    "top_dir = Path(path).parent.absolute()\n",
    "data_dir = os.path.join(top_dir, 'conjugations', 'data')"
   ]
  },
  {
   "cell_type": "code",
   "execution_count": 4,
   "metadata": {},
   "outputs": [],
   "source": [
    "# for verb in conjugations:\n",
    "#     if len(conjugations[verb]['compound']['indicative']['future']['ich'].split(' ')) < 3:\n",
    "#         if 'habe' in conjugations[verb]['compound']['indicative']['present']['ich'].split(' '):\n",
    "#             auxillary = 'haben'\n",
    "#         else:\n",
    "#             auxillary = \"sein\"\n",
    "\n",
    "#         for subject in conjugations[verb]['compound']['indicative']['future']:\n",
    "#             conjugations[verb]['compound']['indicative']['future'][subject] += ' ' + auxillary\n",
    "#             conjugations[verb]['compound']['subjunctive']['conditional'][subject] += ' ' + auxillary"
   ]
  },
  {
   "cell_type": "code",
   "execution_count": 5,
   "metadata": {},
   "outputs": [],
   "source": [
    "# for verb in conjugations:\n",
    "#     for subject in conjugations[verb]['compound']['subjunctive']['future']:\n",
    "#         werden = conjugations[verb]['compound']['subjunctive']['future'][subject].split(' ')[0]\n",
    "#         participle = conjugations[verb]['compound']['indicative']['future'][subject].split(' ')[1]\n",
    "#         auxillary = conjugations[verb]['compound']['indicative']['future'][subject].split(' ')[2]\n",
    "\n",
    "#         conjugations[verb]['compound']['subjunctive']['future'][subject] = ' '.join([werden, participle, auxillary])"
   ]
  },
  {
   "cell_type": "code",
   "execution_count": 6,
   "metadata": {},
   "outputs": [],
   "source": [
    "# f = os.path.join(data_dir, 'language-specific', 'conjugations_german.json')\n",
    "# with open(f, \"w\", encoding = 'utf8') as file:\n",
    "#     json.dump(conjugations, file, indent = 4, ensure_ascii = False)"
   ]
  },
  {
   "cell_type": "code",
   "execution_count": 7,
   "metadata": {},
   "outputs": [],
   "source": [
    "with open(os.path.join(data_dir, 'language-specific', f'conjugations_{language}_new.json'), 'r', encoding = 'utf8') as file:\n",
    "    new = json.loads(file.read())\n",
    "\n",
    "with open(os.path.join(data_dir, 'language-specific', f'conjugations_{language}.json'), 'r', encoding = 'utf8') as file:\n",
    "    old = json.loads(file.read())"
   ]
  },
  {
   "cell_type": "code",
   "execution_count": 8,
   "metadata": {},
   "outputs": [],
   "source": [
    "os.environ['GOOGLE_APPLICATION_CREDENTIALS'] = os.path.join(top_dir, 'audio', 'data', 'gckey.json')"
   ]
  },
  {
   "cell_type": "code",
   "execution_count": 9,
   "metadata": {},
   "outputs": [],
   "source": [
    "class nestedDict(dict):\n",
    "    def __missing__(self, key):\n",
    "        value = self[key] = type(self)()\n",
    "        return value"
   ]
  },
  {
   "cell_type": "code",
   "execution_count": 10,
   "metadata": {},
   "outputs": [],
   "source": [
    "def ttsSynthesize(phrase, language_code, voice_name):\n",
    "    client = texttospeech_v1beta1.TextToSpeechClient()\n",
    "\n",
    "    input = texttospeech_v1beta1.SynthesisInput()\n",
    "    input.text = phrase\n",
    "\n",
    "    voice = texttospeech_v1beta1.VoiceSelectionParams()\n",
    "    voice.language_code = language_code\n",
    "    voice.name = voice_name\n",
    "\n",
    "    audio_config = texttospeech_v1beta1.AudioConfig()\n",
    "    audio_config.audio_encoding = \"MP3_64_KBPS\"\n",
    "    audio_config.sample_rate_hertz = 44100\n",
    "\n",
    "    request = texttospeech_v1beta1.SynthesizeSpeechRequest(\n",
    "        input = input,\n",
    "        voice = voice,\n",
    "        audio_config = audio_config,\n",
    "    )\n",
    "\n",
    "    response = client.synthesize_speech(request = request)\n",
    "\n",
    "    return str(base64.b64encode(response.audio_content))[2:-1]"
   ]
  },
  {
   "cell_type": "code",
   "execution_count": 11,
   "metadata": {},
   "outputs": [],
   "source": [
    "voices = {\n",
    "    'spanish': 'es-ES-Wavenet-B',\n",
    "    'french': 'fr-FR-Wavenet-D',\n",
    "    'german': 'de-DE-Wavenet-B',\n",
    "    'italian': 'it-IT-Wavenet-C',\n",
    "    'portuguese': 'pt-PT-Wavenet-B',\n",
    "}\n",
    "\n",
    "language_codes = {\n",
    "    'spanish': 'es_ES',\n",
    "    'french': 'fr_FR',\n",
    "    'german': 'de_DE',\n",
    "    'italian': 'it_IT',\n",
    "    'portuguese': 'pt_PT'\n",
    "}"
   ]
  },
  {
   "cell_type": "code",
   "execution_count": 12,
   "metadata": {},
   "outputs": [],
   "source": [
    "i = 0\n",
    "changes = []"
   ]
  },
  {
   "cell_type": "code",
   "execution_count": 13,
   "metadata": {},
   "outputs": [],
   "source": [
    "with open(os.path.join(top_dir, 'audio', 'out', f'audio_{language}.json'), 'r', encoding = 'utf8') as file:\n",
    "    audio = nestedDict(json.loads(file.read()))"
   ]
  },
  {
   "cell_type": "code",
   "execution_count": 14,
   "metadata": {},
   "outputs": [],
   "source": [
    "for verb in new:\n",
    "    if new[verb]['rank'] < 2001:\n",
    "        for complexity in ['simple', 'compound']:\n",
    "            for mood in new[verb][complexity]:\n",
    "                for tense in new[verb][complexity][mood]:\n",
    "                    for subject in new[verb][complexity][mood][tense]:\n",
    "                        if new[verb][complexity][mood][tense][subject] != old[verb][complexity][mood][tense][subject]:\n",
    "                            if [verb, complexity, mood, tense] not in changes:\n",
    "                                changes.append([verb, complexity, mood, tense])"
   ]
  },
  {
   "cell_type": "code",
   "execution_count": 15,
   "metadata": {},
   "outputs": [
    {
     "name": "stdout",
     "output_type": "stream",
     "text": [
      "publicitar – 100.0%\n"
     ]
    }
   ],
   "source": [
    "while i < len(changes):\n",
    "\n",
    "    try:\n",
    "        verb, complexity, mood, tense = changes[i]\n",
    "        collated = {}\n",
    "\n",
    "        for subject in new[verb][complexity][mood][tense]:\n",
    "        \n",
    "            conjugation = new[verb][complexity][mood][tense][subject]\n",
    "\n",
    "            if conjugation not in collated.keys():\n",
    "                collated[conjugation] = ttsSynthesize(conjugation, language_codes[language], voices[language])\n",
    "\n",
    "        audio[verb][complexity][mood][tense] = collated\n",
    "        i += 1\n",
    "\n",
    "        clear(); print(f'{verb} – {round(i * 100/ len(changes), 3)}%')\n",
    "\n",
    "    except Exception as ex:\n",
    "        clear(); print(f'ERROR {ex} – SLEEEPING FOR 2 MINUTES')\n",
    "        time.sleep(120)"
   ]
  },
  {
   "cell_type": "code",
   "execution_count": 16,
   "metadata": {},
   "outputs": [],
   "source": [
    "f = os.path.join(top_dir, 'audio', 'out', f'audio_{language}.json')\n",
    "\n",
    "with open(f, \"w\", encoding = 'utf8') as file:\n",
    "    json.dump(audio, file, indent = 4, ensure_ascii = False)"
   ]
  }
 ],
 "metadata": {
  "interpreter": {
   "hash": "9596ba951ddb21d01b6d37648fb60066e40c7f4a0a12dddda8d43c6adacb1362"
  },
  "kernelspec": {
   "display_name": "Python 3.8.8 ('base')",
   "language": "python",
   "name": "python3"
  },
  "language_info": {
   "codemirror_mode": {
    "name": "ipython",
    "version": 3
   },
   "file_extension": ".py",
   "mimetype": "text/x-python",
   "name": "python",
   "nbconvert_exporter": "python",
   "pygments_lexer": "ipython3",
   "version": "3.8.8"
  },
  "orig_nbformat": 4
 },
 "nbformat": 4,
 "nbformat_minor": 2
}
