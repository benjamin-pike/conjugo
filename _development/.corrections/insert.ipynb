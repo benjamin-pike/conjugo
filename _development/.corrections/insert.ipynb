{
 "cells": [
  {
   "cell_type": "code",
   "execution_count": 1,
   "metadata": {},
   "outputs": [],
   "source": [
    "import os\n",
    "import json"
   ]
  },
  {
   "cell_type": "code",
   "execution_count": 2,
   "metadata": {},
   "outputs": [],
   "source": [
    "path = os.path.abspath('')\n",
    "top_dir = path.replace('.corrections', '')\n",
    "data_dir = os.path.join(path, 'out')"
   ]
  },
  {
   "cell_type": "code",
   "execution_count": 5,
   "metadata": {},
   "outputs": [],
   "source": [
    "language = 'german'\n",
    "\n",
    "with open(os.path.join(data_dir, f'missing_conjugated_{language}.json'), 'r', encoding = 'utf8') as file:\n",
    "    missing = json.loads(file.read())\n",
    "\n",
    "with open(os.path.join(data_dir, f'reconjugated_{language}.json'), 'r', encoding = 'utf8') as file:\n",
    "    conjugations = json.loads(file.read())"
   ]
  },
  {
   "cell_type": "code",
   "execution_count": 6,
   "metadata": {},
   "outputs": [],
   "source": [
    "output = {}\n",
    "rerank = {'spanish': {}, 'german': {'weißen': 1600}, 'italian': {}}\n",
    "rank = 1\n",
    "\n",
    "for verb in conjugations:\n",
    "    for m in missing:\n",
    "        if missing[m]['rank'] == rank:\n",
    "            output[m] = missing[m]\n",
    "            rank += 1\n",
    "\n",
    "    for r in rerank[language]:\n",
    "        if rerank[language][r] == rank:\n",
    "            output[r] = conjugations[r]\n",
    "            rank += 1\n",
    "    \n",
    "    if verb not in rerank[language]:\n",
    "        output[verb] = conjugations[verb]\n",
    "        output[verb]['rank'] = rank\n",
    "\n",
    "        rank += 1"
   ]
  },
  {
   "cell_type": "code",
   "execution_count": 7,
   "metadata": {},
   "outputs": [
    {
     "data": {
      "text/plain": [
       "True"
      ]
     },
     "execution_count": 7,
     "metadata": {},
     "output_type": "execute_result"
    }
   ],
   "source": [
    "len(missing) + len(conjugations) == output[list(output.keys())[-1]]['rank']"
   ]
  },
  {
   "cell_type": "code",
   "execution_count": 8,
   "metadata": {},
   "outputs": [],
   "source": [
    "f = os.path.join(data_dir, f'conjugations_{language}.json')\n",
    "\n",
    "with open(f, \"w\", encoding = 'utf8') as file:\n",
    "    json.dump(output, file, indent = 4, ensure_ascii = False)"
   ]
  }
 ],
 "metadata": {
  "interpreter": {
   "hash": "9596ba951ddb21d01b6d37648fb60066e40c7f4a0a12dddda8d43c6adacb1362"
  },
  "kernelspec": {
   "display_name": "Python 3.8.8 ('base')",
   "language": "python",
   "name": "python3"
  },
  "language_info": {
   "codemirror_mode": {
    "name": "ipython",
    "version": 3
   },
   "file_extension": ".py",
   "mimetype": "text/x-python",
   "name": "python",
   "nbconvert_exporter": "python",
   "pygments_lexer": "ipython3",
   "version": "3.8.8"
  },
  "orig_nbformat": 4
 },
 "nbformat": 4,
 "nbformat_minor": 2
}
