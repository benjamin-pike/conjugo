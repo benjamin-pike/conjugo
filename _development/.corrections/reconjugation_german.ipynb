{
 "cells": [
  {
   "cell_type": "code",
   "execution_count": 1,
   "metadata": {},
   "outputs": [],
   "source": [
    "import os\n",
    "import requests\n",
    "import bs4\n",
    "import lxml\n",
    "import json\n",
    "import re\n",
    "import time\n",
    "import uuid\n",
    "from googletrans import Translator\n",
    "from unidecode import unidecode\n",
    "from collections import defaultdict\n",
    "from IPython.display import clear_output as clear"
   ]
  },
  {
   "cell_type": "code",
   "execution_count": 2,
   "metadata": {},
   "outputs": [],
   "source": [
    "path = os.path.abspath('')\n",
    "top_dir = path.replace('.corrections', '')\n",
    "data_dir = os.path.join(path, 'out')\n",
    "conjugations_dir = os.path.join(top_dir, 'conjugations', 'data', 'language-specific')"
   ]
  },
  {
   "cell_type": "code",
   "execution_count": 3,
   "id": "6e532160",
   "metadata": {},
   "outputs": [],
   "source": [
    "class nestedDict(dict):\n",
    "    def __missing__(self, key):\n",
    "        value = self[key] = type(self)()\n",
    "        return value"
   ]
  },
  {
   "cell_type": "code",
   "execution_count": 4,
   "metadata": {},
   "outputs": [],
   "source": [
    "#---HEADERS FOR WEB SCRAPING---#\n",
    "headers = {\"accept\": \"text/html,application/xhtml+xml,application/xml;q=0.9,image/avif,image/webp,image/apng,*/*;q=0.8,application/signed-exchange;v=b3;q=0.9\",\n",
    "           \"accept-encoding\": \"gzip, deflate, br\",\n",
    "           \"accept-language\": \"en-GB,en;q=0.9,es-ES;q=0.8,es;q=0.7,en-US;q=0.6,eu;q=0.5\",\n",
    "           \"cache-control\": \"max-age=0\",\n",
    "           \"cookie\": \"t=238707487; _ga=GA1.2.1376835774.1641262578; _gid=GA1.2.1482423077.1641262578; _fbp=fb.1.1641262579526.851471446\",\n",
    "           \"referer\": \"https://hidemy.name/en/proxy-list/?start=64\",\n",
    "           \"sec-ch-ua-mobile\": \"?0\",\n",
    "           \"sec-ch-ua-platform\": \"macOS\",\n",
    "           \"sec-fetch-dest\": \"document\",\n",
    "           \"sec-fetch-mode\": \"navigate\",\n",
    "           \"sec-fetch-site\": \"same-origin\",\n",
    "           \"sec-fetch-user\": \"?1\",\n",
    "           \"upgrade-insecure-requests\": \"1\",\n",
    "           \"user-agent\": \"Mozilla/5.0 (Macintosh; Intel Mac OS X 10_15_7) AppleWebKit/537.36 (KHTML, like Gecko) Chrome/96.0.4664.110 Safari/537.36\"}"
   ]
  },
  {
   "cell_type": "code",
   "execution_count": 5,
   "metadata": {},
   "outputs": [],
   "source": [
    "def checkRegularity(verb, page):\n",
    "\n",
    "    if 'NOTRECOGVERB' in page.text:\n",
    "        return 'x'\n",
    "    elif \"class=\\\\\\\"irregular\\\\\\\">\" in page.text:\n",
    "        return 'i'\n",
    "    elif \"class=\\\\\\\"orto\\\\\\\">\" in page.text:\n",
    "        return 'sc'\n",
    "    else:\n",
    "        return 'r'"
   ]
  },
  {
   "cell_type": "code",
   "execution_count": 6,
   "id": "2a0f807c",
   "metadata": {},
   "outputs": [],
   "source": [
    "def formatResults(string):\n",
    "    ich = string.select('li')[0].getText()[4:].strip()\n",
    "    du = string.select('li')[1].getText()[3:].strip()\n",
    "    er = string.select('li')[2].getText()[10:].strip()\n",
    "    wir = string.select('li')[3].getText()[4:].strip()\n",
    "    ihr = string.select('li')[4].getText()[4:].strip()\n",
    "    Sie = string.select('li')[5].getText()[4:].strip()\n",
    "\n",
    "    return [ich, du, er, wir, ihr, Sie]"
   ]
  },
  {
   "cell_type": "code",
   "execution_count": 7,
   "id": "0221f992",
   "metadata": {},
   "outputs": [],
   "source": [
    "def formatImperative(string, n = ''):\n",
    "    du = string.select('li .verbtxt')[0].getText().strip()\n",
    "    wir = string.select('li .verbtxt')[1].getText().strip()\n",
    "    ihr = string.select('li .verbtxt')[2].getText().strip()\n",
    "    Sie = string.select('li .verbtxt')[3].getText().strip()\n",
    "\n",
    "    if n:\n",
    "        return [du + ' nicht', wir + ' nicht', ihr + ' nicht', Sie + ' nicht']\n",
    "    else:\n",
    "        return [du, wir, ihr, Sie]"
   ]
  },
  {
   "cell_type": "code",
   "execution_count": 8,
   "id": "2c44345e",
   "metadata": {},
   "outputs": [],
   "source": [
    "def conjugate(verb_data):\n",
    "    \n",
    "    verb,rank = verb_data\n",
    "\n",
    "    url = f'https://conjugator.reverso.net/conjugation-german-verb-{verb}.html'\n",
    "    page = requests.get(url, headers = headers)\n",
    "    soup = bs4.BeautifulSoup(page.text, 'lxml')\n",
    "\n",
    "    verbix_url = f'https://api.verbix.com/conjugator/iv1/ab8e7bb5-9ac6-11e7-ab6a-00089be4dcbc/1/13/113/{verb}'\n",
    "    verbix_page = requests.get(verbix_url)\n",
    "\n",
    "    if rank < 50000:\n",
    "\n",
    "        dictionary = nestedDict()\n",
    "\n",
    "        dictionary['infinitive'] = verb\n",
    "        dictionary['rank'] = rank\n",
    "        dictionary['regularity'] = checkRegularity(verb, verbix_page)\n",
    "\n",
    "        dictionary['participle'] = {'present': soup.select('.blue-box-wrap')[15].select('li')[0].getText(),\n",
    "                                    'past': soup.select('.blue-box-wrap')[16].select('li')[0].getText()}\n",
    "\n",
    "        subjects_indicies = [0, 1, 2, 2, 2, 3, 4, 5]\n",
    "        subjects_pronouns = ['ich', 'du', 'er', 'sie', 'es', 'wir', 'ihr', 'Sie']\n",
    "\n",
    "        subjects_indicies_imp = [0, 1, 2, 3]\n",
    "        subjects_pronouns_imp = ['du', 'wir', 'ihr', 'Sie']\n",
    "\n",
    "        for i,p in zip(subjects_indicies, subjects_pronouns):\n",
    "\n",
    "            #indicative\n",
    "            dictionary['simple']['indicative']['present'][p] = formatResults(soup.select('.blue-box-wrap')[0])[i]\n",
    "            dictionary['simple']['indicative']['imperfect'][p] = formatResults(soup.select('.blue-box-wrap')[1])[i]\n",
    "            dictionary['simple']['indicative']['future'][p] = formatResults(soup.select('.blue-box-wrap')[2])[i]\n",
    "\n",
    "            #subjunctive\n",
    "            dictionary['simple']['subjunctive']['present'][p] = formatResults(soup.select('.blue-box-wrap')[6])[i]\n",
    "            dictionary['simple']['subjunctive']['imperfect'][p] = formatResults(soup.select('.blue-box-wrap')[10])[i]\n",
    "            dictionary['simple']['subjunctive']['future'][p] = formatResults(soup.select('.blue-box-wrap')[7])[i]\n",
    "            dictionary['simple']['subjunctive']['conditional'][p] = formatResults(soup.select('.blue-box-wrap')[11])[i]\n",
    "\n",
    "            #perfect indicative\n",
    "            dictionary['compound']['indicative']['present'][p] = formatResults(soup.select('.blue-box-wrap')[3])[i]\n",
    "            dictionary['compound']['indicative']['imperfect'][p] = formatResults(soup.select('.blue-box-wrap')[4])[i]\n",
    "            dictionary['compound']['indicative']['future'][p] = formatResults(soup.select('.blue-box-wrap')[5])[i]\n",
    "\n",
    "            #subjunctive\n",
    "            dictionary['compound']['subjunctive']['present'][p] = formatResults(soup.select('.blue-box-wrap')[8])[i]\n",
    "            dictionary['compound']['subjunctive']['imperfect'][p] = formatResults(soup.select('.blue-box-wrap')[9])[i]\n",
    "            dictionary['compound']['subjunctive']['future'][p] = formatResults(soup.select('.blue-box-wrap')[12])[i]\n",
    "            dictionary['compound']['subjunctive']['conditional'][p] = formatResults(soup.select('.blue-box-wrap')[13])[i]\n",
    "\n",
    "\n",
    "            #imperative\n",
    "            try:\n",
    "                for i,p in zip(subjects_indicies_imp, subjects_pronouns_imp):\n",
    "                    dictionary['simple']['imperative']['affirmative'][p] = formatImperative(soup.select('.blue-box-wrap')[14])[i]\n",
    "                    dictionary['simple']['imperative']['negative'][p] = formatImperative(soup.select('.blue-box-wrap')[14], 'negative')[i]\n",
    "            except:\n",
    "                for i,p in zip(subjects_indicies_imp, subjects_pronouns_imp):\n",
    "                    dictionary['simple']['imperative']['affirmative'][p] = ''\n",
    "                    dictionary['simple']['imperative']['negative'][p] = ''\n",
    "    \n",
    "        return dictionary"
   ]
  },
  {
   "cell_type": "code",
   "execution_count": 9,
   "metadata": {},
   "outputs": [],
   "source": [
    "#---OPEN CHECKPOINT FILE---#\n",
    "# f = os.path.join(data_dir, 'missing_selected_german.json')\n",
    "f = os.path.join(conjugations_dir, 'infinitives_german.json')\n",
    "\n",
    "with open(f, \"r\", encoding = 'utf8') as file:\n",
    "    infinitives = json.loads(file.read())\n",
    "\n",
    "infinitives = [[x[0], x[1]] for x in infinitives]"
   ]
  },
  {
   "cell_type": "code",
   "execution_count": 10,
   "metadata": {},
   "outputs": [],
   "source": [
    "#---SET VARIABLES FOR CONJUGATIONS---#\n",
    "conjugations = defaultdict()\n",
    "defective = set()\n",
    "skipped = []\n",
    "rank = 1\n",
    "exclude = []"
   ]
  },
  {
   "cell_type": "code",
   "execution_count": 11,
   "metadata": {},
   "outputs": [],
   "source": [
    "#---SET INDEX AT WHICH TO START CONJUGATIONS---#\n",
    "start = 0"
   ]
  },
  {
   "cell_type": "code",
   "execution_count": 12,
   "metadata": {},
   "outputs": [
    {
     "name": "stdout",
     "output_type": "stream",
     "text": [
      "zumengen – complete (99.983%)\n"
     ]
    }
   ],
   "source": [
    "#---GENERATE CONJUGATIONS---#\n",
    "for i in range(start, len(infinitives)):\n",
    "\n",
    "    infinitive = infinitives[i]\n",
    "    try:\n",
    "        c = conjugate(infinitive)\n",
    "\n",
    "        if c != None and infinitive[0] not in exclude: \n",
    "            conjugations[c['infinitive']] = c\n",
    "            conjugations[infinitive[0]]['rank'] = rank\n",
    "            rank += 1\n",
    "\n",
    "            clear(wait = True), print(f\"{infinitive[0]} – complete ({round(i*100/len(infinitives), 3)}%)\")\n",
    "        \n",
    "        else:\n",
    "            clear(wait = True), print(f\"{infinitive[0]} – skipped ({round(i*100/len(infinitives), 3)}%)\")\n",
    "            skipped.append(infinitive)\n",
    "\n",
    "    except Exception as ex:\n",
    "        clear(wait = True), print(f\"{infinitive[0]} – skipped – {ex} ({round(i*100/len(infinitives), 3)}%)\")\n",
    "        skipped.append(infinitive)\n",
    "\n",
    "conjugations = dict(conjugations)"
   ]
  },
  {
   "cell_type": "code",
   "execution_count": 14,
   "metadata": {},
   "outputs": [
    {
     "data": {
      "text/plain": [
       "[['beinhalten', 419],\n",
       " ['übernachten', 1775],\n",
       " ['regnen', 1842],\n",
       " ['zurückwichen', 3073],\n",
       " ['anschlugen', 3133],\n",
       " ['aufblühten', 3237],\n",
       " ['hageln', 3534],\n",
       " ['ausruhten', 3592],\n",
       " ['nieseln', 4547],\n",
       " ['bergsteigen', 4676],\n",
       " ['mattsetzen', 4837],\n",
       " ['beregnen', 4972],\n",
       " ['sonnenbaden', 5294],\n",
       " ['verhageln', 5324],\n",
       " ['googeln', 5539],\n",
       " ['generalüberholen', 5635],\n",
       " ['tempern', 5753],\n",
       " ['entkuppeln', 5931],\n",
       " ['anfauchten', 5984]]"
      ]
     },
     "execution_count": 14,
     "metadata": {},
     "output_type": "execute_result"
    }
   ],
   "source": [
    "skipped"
   ]
  },
  {
   "cell_type": "code",
   "execution_count": 13,
   "metadata": {},
   "outputs": [],
   "source": [
    "f = os.path.join(data_dir, f'reconjugations_german.json')\n",
    "\n",
    "with open(f, \"w\", encoding = 'utf8') as file:\n",
    "    json.dump(conjugations, file, indent = 4, ensure_ascii = False)"
   ]
  }
 ],
 "metadata": {
  "interpreter": {
   "hash": "9596ba951ddb21d01b6d37648fb60066e40c7f4a0a12dddda8d43c6adacb1362"
  },
  "kernelspec": {
   "display_name": "Python 3.8.8 64-bit ('base': conda)",
   "language": "python",
   "name": "python3"
  },
  "language_info": {
   "codemirror_mode": {
    "name": "ipython",
    "version": 3
   },
   "file_extension": ".py",
   "mimetype": "text/x-python",
   "name": "python",
   "nbconvert_exporter": "python",
   "pygments_lexer": "ipython3",
   "version": "3.8.8"
  },
  "orig_nbformat": 4
 },
 "nbformat": 4,
 "nbformat_minor": 2
}
