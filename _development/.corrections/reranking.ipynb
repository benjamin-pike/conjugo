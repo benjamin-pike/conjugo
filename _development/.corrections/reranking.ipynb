{
 "cells": [
  {
   "cell_type": "code",
   "execution_count": 2,
   "metadata": {},
   "outputs": [],
   "source": [
    "import os\n",
    "import bs4\n",
    "import json\n",
    "import time\n",
    "import lxml\n",
    "import base64\n",
    "import requests\n",
    "from google.cloud import texttospeech_v1beta1\n",
    "from IPython.display import clear_output as clear"
   ]
  },
  {
   "cell_type": "code",
   "execution_count": 3,
   "metadata": {},
   "outputs": [],
   "source": [
    "top_dir = os.path.abspath('').replace('corrections', '')\n",
    "conjugations_data_dir = os.path.join(top_dir, 'conjugations', 'data', 'language-specific')"
   ]
  },
  {
   "cell_type": "code",
   "execution_count": 4,
   "metadata": {},
   "outputs": [],
   "source": [
    "headers = {\"accept\": \"text/html,application/xhtml+xml,application/xml;q=0.9,image/avif,image/webp,image/apng,*/*;q=0.8,application/signed-exchange;v=b3;q=0.9\",\n",
    "           \"accept-encoding\": \"gzip, deflate, br\",\n",
    "           \"accept-language\": \"en-GB,en;q=0.9,es-ES;q=0.8,es;q=0.7,en-US;q=0.6,eu;q=0.5\",\n",
    "           \"cache-control\": \"max-age=0\",\n",
    "           \"cookie\": \"t=238707487; _ga=GA1.2.1376835774.1641262578; _gid=GA1.2.1482423077.1641262578; _fbp=fb.1.1641262579526.851471446\",\n",
    "           \"referer\": \"https://hidemy.name/en/proxy-list/?start=64\",\n",
    "           \"sec-ch-ua-mobile\": \"?0\",\n",
    "           \"sec-ch-ua-platform\": \"macOS\",\n",
    "           \"sec-fetch-dest\": \"document\",\n",
    "           \"sec-fetch-mode\": \"navigate\",\n",
    "           \"sec-fetch-site\": \"same-origin\",\n",
    "           \"sec-fetch-user\": \"?1\",\n",
    "           \"upgrade-insecure-requests\": \"1\",\n",
    "           \"user-agent\": \"Mozilla/5.0 (Macintosh; Intel Mac OS X 10_15_7) AppleWebKit/537.36 (KHTML, like Gecko) Chrome/96.0.4664.110 Safari/537.36\"}"
   ]
  },
  {
   "cell_type": "code",
   "execution_count": 5,
   "metadata": {},
   "outputs": [],
   "source": [
    "language = 'spanish'"
   ]
  },
  {
   "cell_type": "code",
   "execution_count": 6,
   "metadata": {},
   "outputs": [],
   "source": [
    "json_path = os.path.join(conjugations_data_dir, f'conjugations_{language}.json')\n",
    "\n",
    "with open(json_path, 'r', encoding = 'utf8') as file:\n",
    "    conjugations = json.loads(file.read())\n",
    "\n",
    "infinitives = [(verb, conjugations[verb]['rank']) for verb in conjugations if conjugations[verb]['rank'] < 2001]"
   ]
  },
  {
   "cell_type": "code",
   "execution_count": 7,
   "metadata": {},
   "outputs": [],
   "source": [
    "# data = []\n",
    "\n",
    "# for n in range (0, len(infinitives)):\n",
    "\n",
    "#     verb, rank = infinitives[n]\n",
    "\n",
    "#     try:\n",
    "#         count = {}\n",
    "\n",
    "#         url = f'https://context.reverso.net/translation/{language}-english/{verb}'\n",
    "#         page = requests.get(url, headers = headers)\n",
    "#         soup = bs4.BeautifulSoup(page.text, 'lxml')\n",
    "\n",
    "#         for i in range(0, len(soup.select('#translations-content .translation .pos-mark span'))):\n",
    "            \n",
    "#             trans_type = str(soup.select('#translations-content .translation .pos-mark span')[i])[13]\n",
    "\n",
    "#             if trans_type in count.keys():\n",
    "#                 count[trans_type] += 1\n",
    "#             else:\n",
    "#                 count[trans_type] = 1\n",
    "\n",
    "#             if i == 0:\n",
    "#                 if trans_type == 'v':\n",
    "#                     primary = True\n",
    "#                 else:\n",
    "#                     primary = False\n",
    "\n",
    "#         data.append([verb, rank, primary, count])\n",
    "        \n",
    "#         status = 'complete'\n",
    "    \n",
    "#     except Exception as ex:\n",
    "#         print(ex)\n",
    "#         data.append([verb, rank, 'translations not found'])\n",
    "#         status = 'error'\n",
    "\n",
    "#     clear(); print(f'{verb} ({rank}) {status} - {round(n/20, 3)}%')\n",
    "\n",
    "#     time.sleep(0.1)\n",
    "\n",
    "# non_primary = [x for x in data if not x[2]]"
   ]
  },
  {
   "cell_type": "code",
   "execution_count": 8,
   "metadata": {},
   "outputs": [],
   "source": [
    "# non_primary = [x for x in data if not x[2]]\n",
    "# errors = [x for x in data if 'translations not found' in x]\n",
    "# lean = []\n",
    "\n",
    "# for item in data:\n",
    "\n",
    "#     if item[0] not in [x[0] for x in errors]:\n",
    "    \n",
    "#         verb,rank,primary,count = item\n",
    "\n",
    "#         if primary:\n",
    "#             if 'v' in count: v = count['v']\n",
    "#             else: v = 0\n",
    "\n",
    "#             nv = 0\n",
    "\n",
    "#             for t in count:\n",
    "#                 if t != 'v':\n",
    "#                     nv += count[t]\n",
    "        \n",
    "#         if nv > v:\n",
    "#             lean.append([verb, rank, (v, nv)])\n",
    "\n",
    "# print(f'errors: {errors}')\n",
    "# print(f'lean: {lean}')\n",
    "\n",
    "# for item in non_primary:\n",
    "#     verb,rank,_,count = item\n",
    "#     print(verb, rank, count, conjugations[verb]['translations'][0])"
   ]
  },
  {
   "cell_type": "code",
   "execution_count": 9,
   "metadata": {},
   "outputs": [],
   "source": [
    "rerank = {\n",
    "    'spanish':      {'deber': 12, 'abrir': 60, 'pesar': 79, 'andar': 90, 'regular': 600, 'auxiliar': 700},\n",
    "    'french':       {'conseiller': 400, 'rire': 250, 'officier': 750, 'tendre': 450},\n",
    "    'german':       {'werden': 4, 'aufkommen': 1400, 'schlichten': 1500, 'vergehen': 1600, 'ausscheiden': 1700, \n",
    "                    'verkommen': 1800, 'anwachsen': 1900},\n",
    "    'italian':      {'popolare': 750, 'parere': 250, 'regolare': 300, 'ammontare': 450, 'consolare': 760, \n",
    "                    'capitolare': 1500, 'ardire': 1800},\n",
    "    'portuguese':   {'poder':8, 'jantar':110, 'dever':15, 'colar':510, 'amanhecer':1500, 'colher':900, \n",
    "                    'circular':1600, 'disciplinar':1400,}\n",
    "}"
   ]
  },
  {
   "cell_type": "code",
   "execution_count": 10,
   "metadata": {},
   "outputs": [],
   "source": [
    "dispose = {\n",
    "    'spanish':      ['placer', 'solar', 'linear', 'protocolar', 'titular', 'tutelar', 'cautelar', 'nuclear', 'vehicular', 'militar',\n",
    "                    'aver', 'trasmitir', 'substituir', 'recebir', 'remplazar', 'reinterpretar', 'reestablecer', 'efectivizar'],\n",
    "    'french':       ['décrocher', 'repentir', 'souvenir', 'fier', 'réfugier', 'soucier', 'méfier', 'suicider', \n",
    "                    'méprendre', 'targuer', 'lamenter', 'rocher', 'plancher', 'clocher', 'latter', 'manager', 'bûcher', 'corner'],\n",
    "    'german':       ['sondern', 'einigen', 'bezogen', 'geblieben', 'gingen', 'sieben', 'begonnen', 'berufen', 'überlegen', \n",
    "                    'modern', 'vermögen', 'verfahren', 'verborgen', 'angefangen', 'rücken', 'eingehalten', 'bescheiden', \n",
    "                    'angekommen', 'grauen', 'abgezogen', 'unterlegen', 'eingetroffen', 'gediehen', 'eingefangen', 'verschlagen', \n",
    "                    'zutrauen', 'zugegriffen', 'ausersehen', 'beschossen', 'geraten', 'verhalten', 'vorbehalten', 'verlegen', \n",
    "                    'eindringen', 'entgegenkommen', 'benehmen'],\n",
    "    'italian':      ['scolare', 'militare', 'parlamentare', 'cautelare', 'regolamentare', 'calcare', 'mobiliare', 'domiciliare', \n",
    "                    'collare', 'fire', 'nettare', 'granulare'],\n",
    "    'portuguese':   ['militar', 'nuclear', 'solar', 'anoitecer', 'pilar', 'glaciar', 'titular', 'placar', 'jugular', \n",
    "                    'suplementar', 'gear', 'domiciliar', 'anelar', 'velar']\n",
    "}  "
   ]
  },
  {
   "cell_type": "code",
   "execution_count": 11,
   "metadata": {},
   "outputs": [],
   "source": [
    "insert = []\n",
    "\n",
    "for verb in rerank[language]:\n",
    "    insert.append(conjugations.pop(verb))"
   ]
  },
  {
   "cell_type": "code",
   "execution_count": 12,
   "metadata": {},
   "outputs": [],
   "source": [
    "for verb in dispose[language]:\n",
    "    conjugations.pop(verb)"
   ]
  },
  {
   "cell_type": "code",
   "execution_count": 13,
   "metadata": {},
   "outputs": [],
   "source": [
    "conjugations_list = []\n",
    "\n",
    "for verb in conjugations:\n",
    "    conjugations_list.append(conjugations[verb])\n",
    "\n",
    "del conjugations"
   ]
  },
  {
   "cell_type": "code",
   "execution_count": 14,
   "metadata": {},
   "outputs": [],
   "source": [
    "for verb in insert:\n",
    "    for i in range(0, len(conjugations_list)):\n",
    "        if conjugations_list[i]['rank'] == rerank[language][verb['infinitive']]:\n",
    "            conjugations_list.insert(i, verb)\n",
    "            break"
   ]
  },
  {
   "cell_type": "code",
   "execution_count": 15,
   "metadata": {},
   "outputs": [
    {
     "name": "stdout",
     "output_type": "stream",
     "text": [
      "6782\n",
      "6782\n"
     ]
    }
   ],
   "source": [
    "new_conjugations = {}\n",
    "\n",
    "for i in range(0, len(conjugations_list)):\n",
    "    verb = conjugations_list[i]\n",
    "    verb['rank'] = i + 1\n",
    "\n",
    "    new_conjugations[verb['infinitive']] = verb\n",
    "\n",
    "print(len(new_conjugations))\n",
    "print(new_conjugations[conjugations_list[-1]['infinitive']]['rank'])\n",
    "\n",
    "del conjugations_list"
   ]
  },
  {
   "cell_type": "code",
   "execution_count": 16,
   "metadata": {},
   "outputs": [],
   "source": [
    "with open(os.path.join(conjugations_data_dir, f'conjugations_{language}.json'), 'w', encoding = 'utf8') as file:\n",
    "    json.dump(new_conjugations, file, indent = 4, ensure_ascii = False)"
   ]
  },
  {
   "cell_type": "code",
   "execution_count": 17,
   "metadata": {},
   "outputs": [],
   "source": [
    "# infinitives = [(verb, new_conjugations[verb]['rank']) for verb in new_conjugations if new_conjugations[verb]['rank'] < 2001]\n",
    "# data = []\n",
    "\n",
    "# for n in range (1900, len(infinitives)):\n",
    "\n",
    "#     verb, rank = infinitives[n]\n",
    "\n",
    "#     try:\n",
    "#         count = {}\n",
    "\n",
    "#         url = f'https://context.reverso.net/translation/{language}-english/{verb}'\n",
    "#         page = requests.get(url, headers = headers)\n",
    "#         soup = bs4.BeautifulSoup(page.text, 'lxml')\n",
    "\n",
    "#         for i in range(0, len(soup.select('#translations-content .translation .pos-mark span'))):\n",
    "            \n",
    "#             trans_type = str(soup.select('#translations-content .translation .pos-mark span')[i])[13]\n",
    "\n",
    "#             if trans_type in count.keys():\n",
    "#                 count[trans_type] += 1\n",
    "#             else:\n",
    "#                 count[trans_type] = 1\n",
    "\n",
    "#             if i == 0:\n",
    "#                 if trans_type == 'v':\n",
    "#                     primary = True\n",
    "#                 else:\n",
    "#                     primary = False\n",
    "\n",
    "#         data.append([verb, rank, primary, count])\n",
    "        \n",
    "#         status = 'complete'\n",
    "    \n",
    "#     except Exception as ex:\n",
    "#         print(ex)\n",
    "#         data.append([verb, rank, 'translations not found'])\n",
    "#         status = 'error'\n",
    "\n",
    "#     clear(); print(f'{verb} ({rank}) {status} - {round(n/20, 3)}%')\n",
    "\n",
    "#     time.sleep(0.1)\n",
    "\n",
    "# non_primary = [x for x in data if not x[2]]"
   ]
  },
  {
   "cell_type": "code",
   "execution_count": 18,
   "metadata": {},
   "outputs": [],
   "source": [
    "# non_primary = [x for x in data if not x[2]]\n",
    "# errors = [x for x in data if 'translations not found' in x]\n",
    "# lean = []\n",
    "\n",
    "# for item in data:\n",
    "\n",
    "#     if item[0] not in [x[0] for x in errors]:\n",
    "    \n",
    "#         verb,rank,primary,count = item\n",
    "\n",
    "#         if primary:\n",
    "#             if 'v' in count: v = count['v']\n",
    "#             else: v = 0\n",
    "\n",
    "#             nv = 0\n",
    "\n",
    "#             for t in count:\n",
    "#                 if t != 'v':\n",
    "#                     nv += count[t]\n",
    "        \n",
    "#         if nv > v:\n",
    "#             lean.append([verb, rank, (v, nv)])\n",
    "\n",
    "# print(f'errors: {errors}')\n",
    "# print(f'lean: {lean}')\n",
    "\n",
    "# for item in non_primary:\n",
    "#     verb,rank,_,count = item\n",
    "#     print(verb, rank, count, new_conjugations[verb]['translations'][0])"
   ]
  }
 ],
 "metadata": {
  "interpreter": {
   "hash": "808a5972c4193ca0b907cfd6a74b70d9812a8bcdad0a160fe359b4689aaac02e"
  },
  "kernelspec": {
   "display_name": "Python 3.9.7 ('conjugoEnv')",
   "language": "python",
   "name": "python3"
  },
  "language_info": {
   "codemirror_mode": {
    "name": "ipython",
    "version": 3
   },
   "file_extension": ".py",
   "mimetype": "text/x-python",
   "name": "python",
   "nbconvert_exporter": "python",
   "pygments_lexer": "ipython3",
   "version": "3.8.8"
  },
  "orig_nbformat": 4
 },
 "nbformat": 4,
 "nbformat_minor": 2
}
