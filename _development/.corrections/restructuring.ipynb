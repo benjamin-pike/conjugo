{
 "cells": [
  {
   "cell_type": "code",
   "execution_count": 1,
   "metadata": {},
   "outputs": [],
   "source": [
    "import os\n",
    "import json"
   ]
  },
  {
   "cell_type": "code",
   "execution_count": 2,
   "metadata": {},
   "outputs": [],
   "source": [
    "top_dir = os.path.abspath('').replace('corrections', '')\n",
    "conjugations_data_dir = os.path.join(top_dir, 'conjugations', 'data')"
   ]
  },
  {
   "cell_type": "code",
   "execution_count": 3,
   "metadata": {},
   "outputs": [],
   "source": [
    "for language in ['spanish', 'french', 'german', 'italian', 'portuguese']:\n",
    "    \n",
    "    c_path = os.path.join(conjugations_data_dir, 'language-specific', f'conjugations_{language}.json')\n",
    "    i_path = os.path.join(conjugations_data_dir, 'language-specific', f'infinitives_{language}.json')\n",
    "\n",
    "    with open(c_path, 'r', encoding = 'utf8') as file:\n",
    "        conjugations = json.loads(file.read())\n",
    "\n",
    "    # for verb in conjugations:\n",
    "    #     conjugations[verb].pop('translations')\n",
    "\n",
    "    # with open(c_path, 'w', encoding = 'utf8') as file:\n",
    "    #     json.dump(conjugations, file, indent = 4, ensure_ascii = False)\n",
    "\n",
    "    infinitives = []\n",
    "\n",
    "    for verb in conjugations:\n",
    "        infinitives.append([verb, conjugations[verb]['rank'], conjugations[verb]['regularity']])\n",
    "\n",
    "    with open(i_path, 'w', encoding = 'utf8') as file:\n",
    "        json.dump(infinitives, file, indent = 4, ensure_ascii = False)"
   ]
  }
 ],
 "metadata": {
  "interpreter": {
   "hash": "9596ba951ddb21d01b6d37648fb60066e40c7f4a0a12dddda8d43c6adacb1362"
  },
  "kernelspec": {
   "display_name": "Python 3.8.8 ('base')",
   "language": "python",
   "name": "python3"
  },
  "language_info": {
   "codemirror_mode": {
    "name": "ipython",
    "version": 3
   },
   "file_extension": ".py",
   "mimetype": "text/x-python",
   "name": "python",
   "nbconvert_exporter": "python",
   "pygments_lexer": "ipython3",
   "version": "3.8.8"
  },
  "orig_nbformat": 4
 },
 "nbformat": 4,
 "nbformat_minor": 2
}
