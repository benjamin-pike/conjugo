{
 "cells": [
  {
   "cell_type": "code",
   "execution_count": null,
   "metadata": {},
   "outputs": [],
   "source": [
    "import os\n",
    "import time\n",
    "import json\n",
    "import base64\n",
    "import requests\n",
    "from google.cloud import texttospeech_v1beta1\n",
    "from IPython.display import clear_output as clear"
   ]
  },
  {
   "cell_type": "code",
   "execution_count": null,
   "metadata": {},
   "outputs": [],
   "source": [
    "top_dir = os.path.abspath('').replace('src', '')\n",
    "key_dir = os.path.join(top_dir, 'data')\n",
    "data_dir = os.path.join(os.path.dirname(os.path.dirname(top_dir)), 'conjugations', 'data', 'language-specific')\n",
    "out_dir = os.path.join(top_dir, 'out')\n",
    "mp3_dir = os.path.join(os.path.dirname(os.path.dirname(os.path.dirname(top_dir))), 'server', 'src', 'static', 'audio', 'conjugations')"
   ]
  },
  {
   "cell_type": "code",
   "execution_count": null,
   "metadata": {},
   "outputs": [],
   "source": [
    "language = \"portuguese\""
   ]
  },
  {
   "cell_type": "code",
   "execution_count": null,
   "metadata": {},
   "outputs": [],
   "source": [
    "os.environ['GOOGLE_APPLICATION_CREDENTIALS'] = os.path.join(key_dir, 'gckey.json')"
   ]
  },
  {
   "cell_type": "code",
   "execution_count": null,
   "metadata": {},
   "outputs": [],
   "source": [
    "def ttsSynthesize(phrase, language):\n",
    "\n",
    "    voices = {\n",
    "        'spanish': 'es-ES-Wavenet-B',\n",
    "        'french': 'fr-FR-Wavenet-D',\n",
    "        'german': 'de-DE-Wavenet-B',\n",
    "        'italian': 'it-IT-Wavenet-C',\n",
    "        'portuguese': 'pt-PT-Wavenet-B'\n",
    "    }\n",
    "\n",
    "    language_codes = {\n",
    "        'spanish': 'es_ES',\n",
    "        'french': 'fr_FR',\n",
    "        'german': 'de_DE',\n",
    "        'italian': 'it_IT',\n",
    "        'portuguese': 'pt_PT'\n",
    "    }\n",
    "\n",
    "    client = texttospeech_v1beta1.TextToSpeechClient()\n",
    "\n",
    "    input = texttospeech_v1beta1.SynthesisInput()\n",
    "    input.text = phrase\n",
    "\n",
    "    voice = texttospeech_v1beta1.VoiceSelectionParams()\n",
    "    voice.language_code = language_codes[language]\n",
    "    voice.name = voices[language]\n",
    "\n",
    "    audio_config = texttospeech_v1beta1.AudioConfig()\n",
    "    audio_config.audio_encoding = \"MP3_64_KBPS\"\n",
    "    audio_config.sample_rate_hertz = 44100\n",
    "\n",
    "    request = texttospeech_v1beta1.SynthesizeSpeechRequest(\n",
    "        input = input,\n",
    "        voice = voice,\n",
    "        audio_config = audio_config,\n",
    "    )\n",
    "\n",
    "    response = client.synthesize_speech(request = request)\n",
    "\n",
    "    return response.audio_content\n",
    "\n",
    "    return str(base64.b64encode(response.audio_content))[2:-1]"
   ]
  },
  {
   "cell_type": "code",
   "execution_count": null,
   "metadata": {},
   "outputs": [],
   "source": [
    "with open(os.path.join(out_dir, f'audio_{language}.json'), 'r', encoding = 'utf8') as file:\n",
    "    existing = json.loads(file.read())"
   ]
  },
  {
   "cell_type": "code",
   "execution_count": null,
   "metadata": {},
   "outputs": [],
   "source": [
    "with open(os.path.join(data_dir, f'conjugations_{language}.json'), 'r', encoding = 'utf8') as file:\n",
    "    conjugations = json.loads(file.read())\n",
    "\n",
    "conjugations = { verb: conjugations[verb] for i, verb in enumerate(conjugations) if i < 2100 }"
   ]
  },
  {
   "cell_type": "code",
   "execution_count": null,
   "metadata": {},
   "outputs": [],
   "source": [
    "collated_audio = {}\n",
    "\n",
    "for verb in existing:\n",
    "    collated_audio[verb] = set([verb])\n",
    "\n",
    "    for complexity in existing[verb]:\n",
    "        for mood in existing[verb][complexity]:\n",
    "            for tense in existing[verb][complexity][mood]:\n",
    "                for conjugation in existing[verb][complexity][mood][tense]:\n",
    "\n",
    "                    if conjugation not in collated_audio[verb]:\n",
    "                        collated_audio[verb].add( conjugation )\n",
    "\n",
    "del existing"
   ]
  },
  {
   "cell_type": "code",
   "execution_count": null,
   "metadata": {},
   "outputs": [],
   "source": [
    "collated_conjugations = {}\n",
    "\n",
    "for verb in conjugations:\n",
    "    collated_conjugations[verb] = set([verb])\n",
    "\n",
    "    for complexity in conjugations[verb]:\n",
    "        if complexity in ['simple', 'compound', 'progressive']:\n",
    "            for mood in conjugations[verb][complexity]:\n",
    "                for tense in conjugations[verb][complexity][mood]:\n",
    "                    for subject in conjugations[verb][complexity][mood][tense]:\n",
    "                        conjugation = conjugations[verb][complexity][mood][tense][subject]\n",
    "                        if conjugation not in collated_conjugations[verb]:\n",
    "                            collated_conjugations[verb].add( conjugation )"
   ]
  },
  {
   "cell_type": "code",
   "execution_count": null,
   "metadata": {},
   "outputs": [],
   "source": [
    "folders_raw = os.listdir( os.path.join( mp3_dir, language ) )\n",
    "\n",
    "if '.DS_Store' in folders_raw:\n",
    "    folders_raw.remove('.DS_Store')\n",
    "\n",
    "folders_sorted = sorted(folders_raw, key = lambda x: int(x.split('_')[0]))\n",
    "folders = list(map(lambda x: x.split('_')[1], folders_sorted))"
   ]
  },
  {
   "cell_type": "code",
   "execution_count": null,
   "metadata": {},
   "outputs": [],
   "source": [
    "for conjugation in conjugations:\n",
    "    if conjugation not in folders:\n",
    "        print(conjugations[conjugation]['rank'], conjugation)"
   ]
  },
  {
   "cell_type": "code",
   "execution_count": null,
   "metadata": {},
   "outputs": [],
   "source": [
    "# most_recent = folders[-1]\n",
    "# new_rank = conjugations[most_recent]['rank'] + 1\n",
    "# num = 0\n",
    "\n",
    "for verb in collated_conjugations:\n",
    "\n",
    "    if verb in collated_audio and conjugations[verb]['rank'] >= conjugations['exportar']['rank']:\n",
    "\n",
    "        missing = collated_conjugations[verb].difference( collated_audio[verb] )\n",
    "\n",
    "        if missing:\n",
    "            \n",
    "            print('missing', verb, len(missing))\n",
    "\n",
    "            for folder in os.listdir( os.path.join( mp3_dir, language ) ):\n",
    "                if folder.split('_')[1] == verb:\n",
    "                    rank = int(folder.split('_')[0])\n",
    "                    break\n",
    "\n",
    "            file_path = os.path.join(mp3_dir, language, f'{rank}_{verb}')\n",
    "\n",
    "            for conjugation in missing:\n",
    "\n",
    "                bin_audio = ttsSynthesize(conjugation, language)\n",
    "                \n",
    "                with open( os.path.join(file_path, f'{ conjugation.replace(\" \", \"_\") }.mp3'), 'wb') as file:\n",
    "                    file.write(bin_audio)\n"
   ]
  },
  {
   "cell_type": "code",
   "execution_count": null,
   "metadata": {},
   "outputs": [],
   "source": [
    "for verb in collated_conjugations:\n",
    "\n",
    "    if verb not in collated_audio:\n",
    "        \n",
    "        rank = conjugations[verb][\"rank\"]\n",
    "        file_path = os.path.join(mp3_dir, language, f'{rank}_{verb}')\n",
    "        \n",
    "        os.mkdir(file_path)\n",
    "\n",
    "        for conjugation in collated_conjugations[verb]:\n",
    "            \n",
    "            bin_audio = ttsSynthesize(conjugation, language)\n",
    "                            \n",
    "            with open( os.path.join(file_path, f'{ conjugation.replace(\" \", \"_\") }.mp3'), 'wb') as file:\n",
    "                file.write(bin_audio)\n",
    "            \n",
    "            del bin_audio\n",
    "\n",
    "        print('new', rank, verb)"
   ]
  },
  {
   "cell_type": "markdown",
   "metadata": {},
   "source": [
    "----------------------------------------------------------------------------------------------"
   ]
  },
  {
   "cell_type": "code",
   "execution_count": null,
   "metadata": {},
   "outputs": [],
   "source": [
    "verb = 'aportar'\n",
    "\n",
    "file_path = os.path.join(mp3_dir, language, f'{conjugations[verb][\"rank\"]}_{verb}')\n",
    "\n",
    "os.mkdir(file_path)\n",
    "\n",
    "for conjugation in collated_conjugations[verb]:\n",
    "    \n",
    "    bin_audio = ttsSynthesize(conjugation, language)\n",
    "                    \n",
    "    with open( os.path.join(file_path, f'{ conjugation.replace(\" \", \"_\") }.mp3'), 'wb') as file:\n",
    "        file.write(bin_audio)\n",
    "    \n",
    "    del bin_audio"
   ]
  },
  {
   "cell_type": "code",
   "execution_count": null,
   "metadata": {},
   "outputs": [],
   "source": [
    "for verb in conjugations:\n",
    "    rank = conjugations[verb]['rank']\n",
    "    new_path = os.path.join(mp3_dir, language, f'{rank}_{verb}')\n",
    "    \n",
    "    for folder in os.listdir( os.path.join(mp3_dir, language ) ):\n",
    "        if folder != 'DS_Store' and folder.split('_')[1] == verb:\n",
    "            os.rename(os.path.join(mp3_dir, language, folder), new_path)\n",
    "            print(os.path.join(mp3_dir, language, folder), new_path)"
   ]
  },
  {
   "cell_type": "code",
   "execution_count": null,
   "metadata": {},
   "outputs": [],
   "source": [
    "folders_raw = os.listdir( os.path.join( mp3_dir, language ) )\n",
    "\n",
    "if '.DS_Store' in folders_raw:\n",
    "    folders_raw.remove('.DS_Store')\n",
    "\n",
    "folders_sorted = sorted(folders_raw, key = lambda x: int(x.split('_')[0]))\n",
    "folders = list(map(lambda x: x.split('_')[1], folders_sorted))"
   ]
  },
  {
   "cell_type": "code",
   "execution_count": null,
   "metadata": {},
   "outputs": [],
   "source": [
    "for i, folder in enumerate(folders_sorted):\n",
    "    rank, verb = folder.split('_')\n",
    "    if i + 1 != int(rank):\n",
    "        print(verb)"
   ]
  },
  {
   "cell_type": "code",
   "execution_count": null,
   "metadata": {},
   "outputs": [],
   "source": []
  }
 ],
 "metadata": {
  "kernelspec": {
   "display_name": "Python 3.10.1 64-bit",
   "language": "python",
   "name": "python3"
  },
  "language_info": {
   "codemirror_mode": {
    "name": "ipython",
    "version": 3
   },
   "file_extension": ".py",
   "mimetype": "text/x-python",
   "name": "python",
   "nbconvert_exporter": "python",
   "pygments_lexer": "ipython3",
   "version": "3.10.1"
  },
  "orig_nbformat": 4,
  "vscode": {
   "interpreter": {
    "hash": "369f2c481f4da34e4445cda3fffd2e751bd1c4d706f27375911949ba6bb62e1c"
   }
  }
 },
 "nbformat": 4,
 "nbformat_minor": 2
}
