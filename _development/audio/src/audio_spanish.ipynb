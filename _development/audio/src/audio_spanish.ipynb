{
 "cells": [
  {
   "cell_type": "code",
   "execution_count": 1,
   "metadata": {},
   "outputs": [],
   "source": [
    "import os\n",
    "import time\n",
    "import json\n",
    "import base64\n",
    "import requests\n",
    "from google.cloud import texttospeech_v1beta1\n",
    "from IPython.display import clear_output as clear"
   ]
  },
  {
   "cell_type": "code",
   "execution_count": 2,
   "metadata": {},
   "outputs": [],
   "source": [
    "top_dir = os.path.abspath('').replace('src', '')\n",
    "data_dir = os.path.join(top_dir, 'data')\n",
    "out_dir = os.path.join(top_dir, 'out')"
   ]
  },
  {
   "cell_type": "code",
   "execution_count": 3,
   "metadata": {},
   "outputs": [],
   "source": [
    "os.environ['GOOGLE_APPLICATION_CREDENTIALS'] = os.path.join(data_dir, 'gckey.json')"
   ]
  },
  {
   "cell_type": "code",
   "execution_count": 4,
   "metadata": {},
   "outputs": [],
   "source": [
    "class nestedDict(dict):\n",
    "    def __missing__(self, key):\n",
    "        value = self[key] = type(self)()\n",
    "        return value"
   ]
  },
  {
   "cell_type": "code",
   "execution_count": 5,
   "metadata": {},
   "outputs": [],
   "source": [
    "with open(os.path.join(data_dir, 'conjugations.json'), 'r', encoding = 'utf8') as file:\n",
    "    conjugations = json.loads(file.read())"
   ]
  },
  {
   "cell_type": "code",
   "execution_count": 6,
   "metadata": {},
   "outputs": [],
   "source": [
    "audio = nestedDict(dict())"
   ]
  },
  {
   "cell_type": "code",
   "execution_count": 7,
   "metadata": {},
   "outputs": [],
   "source": [
    "def ttsSynthesize(phrase, language_code, voice_name):\n",
    "    client = texttospeech_v1beta1.TextToSpeechClient()\n",
    "\n",
    "    input = texttospeech_v1beta1.SynthesisInput()\n",
    "    input.text = phrase\n",
    "\n",
    "    voice = texttospeech_v1beta1.VoiceSelectionParams()\n",
    "    voice.language_code = language_code\n",
    "    voice.name = voice_name\n",
    "\n",
    "    audio_config = texttospeech_v1beta1.AudioConfig()\n",
    "    audio_config.audio_encoding = \"MP3_64_KBPS\"\n",
    "    audio_config.sample_rate_hertz = 44100\n",
    "\n",
    "    request = texttospeech_v1beta1.SynthesizeSpeechRequest(\n",
    "        input = input,\n",
    "        voice = voice,\n",
    "        audio_config = audio_config,\n",
    "    )\n",
    "\n",
    "    response = client.synthesize_speech(request = request)\n",
    "\n",
    "    return str(base64.b64encode(response.audio_content))[2:-1]"
   ]
  },
  {
   "cell_type": "code",
   "execution_count": 8,
   "metadata": {},
   "outputs": [],
   "source": [
    "language = 'spanish'\n",
    "current = 501"
   ]
  },
  {
   "cell_type": "code",
   "execution_count": 9,
   "metadata": {},
   "outputs": [],
   "source": [
    "voices = {\n",
    "    'spanish': 'es-ES-Wavenet-B',\n",
    "    'french': 'fr-FR-Wavenet-D',\n",
    "    'german': 'de-DE-Wavenet-B',\n",
    "    'italian': 'it-IT-Wavenet-C',\n",
    "    'portuguese': 'pt-PT-Wavenet-B',\n",
    "}"
   ]
  },
  {
   "cell_type": "code",
   "execution_count": 10,
   "metadata": {},
   "outputs": [],
   "source": [
    "language_codes = {\n",
    "    'spanish': 'es_ES',\n",
    "    'french': 'fr_FR',\n",
    "    'german': 'de_DE',\n",
    "    'italian': 'it_IT',\n",
    "    'portuguse': 'pt_PT'\n",
    "}"
   ]
  },
  {
   "cell_type": "code",
   "execution_count": 11,
   "metadata": {},
   "outputs": [],
   "source": [
    "with open(os.path.join(out_dir, f'audio_{language}.json'), 'r', encoding = 'utf8') as file:\n",
    "    audio = nestedDict(json.loads(file.read()))"
   ]
  },
  {
   "cell_type": "code",
   "execution_count": 12,
   "metadata": {},
   "outputs": [
    {
     "name": "stdout",
     "output_type": "stream",
     "text": [
      "aventar (2000) – 100.0%\n"
     ]
    }
   ],
   "source": [
    "while len(audio) < 2000:\n",
    "    \n",
    "    try:\n",
    "        for verb in conjugations[language]:\n",
    "            if conjugations[language][verb]['rank'] == current:\n",
    "                for complexity in ['simple', 'compound', 'progressive']:\n",
    "                    if complexity in conjugations[language][verb]:\n",
    "                        for mood in conjugations[language][verb][complexity]:\n",
    "                            for tense in conjugations[language][verb][complexity][mood]:\n",
    "\n",
    "                                collated = {}\n",
    "\n",
    "                                for subject in conjugations[language][verb][complexity][mood][tense]:\n",
    "                                    \n",
    "                                    conjugation = conjugations[language][verb][complexity][mood][tense][subject]\n",
    "\n",
    "                                    if conjugation not in collated.keys():\n",
    "                                        collated[conjugation] = ttsSynthesize(conjugation, language_codes[language], voices[language])\n",
    "                                \n",
    "                                audio[verb][complexity][mood][tense] = collated\n",
    "                \n",
    "                if conjugations[language][verb]['rank'] % 100 == 0:\n",
    "                    with open(os.path.join(out_dir, f'audio_{language}.json'), 'w', encoding = 'utf8') as file:\n",
    "                        json.dump(audio, file, indent = 4, ensure_ascii = False)\n",
    "                \n",
    "                clear(); print(f'{verb} ({conjugations[language][verb][\"rank\"]}) – {round(current / 20, 3)}%')\n",
    "                \n",
    "                current += 1\n",
    "\n",
    "    except Exception as ex:\n",
    "        clear(); print(f'ERROR {ex} – SLEEEPING FOR 2 MINUTES')\n",
    "        time.sleep(120)"
   ]
  },
  {
   "cell_type": "code",
   "execution_count": 13,
   "metadata": {},
   "outputs": [],
   "source": [
    "with open(os.path.join(out_dir, f'audio_{language}.json'), 'r') as file:\n",
    "    audio_loaded = json.loads(file.read())\n",
    "\n",
    "audio = []\n",
    "rank = 1\n",
    "\n",
    "for verb in audio_loaded:\n",
    "    audio.append(\n",
    "        {\n",
    "            '_id': f'spanish_{verb}',\n",
    "            'language': language,\n",
    "            'verb': verb,\n",
    "            'rank': rank,\n",
    "            'conjugations': audio_loaded[verb]\n",
    "        }\n",
    "    )\n",
    "\n",
    "    rank += 1\n",
    "\n",
    "with open(os.path.join(out_dir, f'audio_array_{language}.json'), 'w', encoding = 'utf8') as file:\n",
    "    json.dump(audio, file, indent = 4, ensure_ascii = False)"
   ]
  }
 ],
 "metadata": {
  "kernelspec": {
   "display_name": "Python 3.10.1 64-bit",
   "language": "python",
   "name": "python3"
  },
  "language_info": {
   "codemirror_mode": {
    "name": "ipython",
    "version": 3
   },
   "file_extension": ".py",
   "mimetype": "text/x-python",
   "name": "python",
   "nbconvert_exporter": "python",
   "pygments_lexer": "ipython3",
   "version": "3.10.1"
  },
  "orig_nbformat": 4,
  "vscode": {
   "interpreter": {
    "hash": "369f2c481f4da34e4445cda3fffd2e751bd1c4d706f27375911949ba6bb62e1c"
   }
  }
 },
 "nbformat": 4,
 "nbformat_minor": 2
}
