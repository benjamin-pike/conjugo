{
 "cells": [
  {
   "cell_type": "code",
   "execution_count": null,
   "metadata": {},
   "outputs": [],
   "source": [
    "import os\n",
    "import json\n",
    "import base64"
   ]
  },
  {
   "cell_type": "code",
   "execution_count": null,
   "metadata": {},
   "outputs": [],
   "source": [
    "top_dir = os.path.abspath('').replace('src', '')\n",
    "data_dir = os.path.join(top_dir, 'data')\n",
    "out_dir = os.path.join(top_dir, 'out')"
   ]
  },
  {
   "cell_type": "code",
   "execution_count": null,
   "metadata": {},
   "outputs": [],
   "source": [
    "for language in [ \"french\", \"german\", \"italian\", \"portuguese\" ]:\n",
    "\n",
    "    print( language )\n",
    "\n",
    "    with open(os.path.join(out_dir, f'audio_{language}.json'), 'r', encoding = 'utf8') as file:\n",
    "        audio = json.loads(file.read())\n",
    "\n",
    "    for i , verb in enumerate( audio ):\n",
    "        \n",
    "        if i >= 0:\n",
    "\n",
    "            unique = []\n",
    "            dir = os.path.join( out_dir, \"mp3\", language, f'{i + 1}_{verb}' )\n",
    "            os.mkdir( dir )\n",
    "\n",
    "            for complexity in audio[verb]:\n",
    "                for mood in audio[verb][complexity]:\n",
    "                    for tense in audio[verb][complexity][mood]:\n",
    "                        for conjugation in audio[verb][complexity][mood][tense]:\n",
    "                            \n",
    "                            b64audio = audio[verb][complexity][mood][tense][conjugation]\n",
    "\n",
    "                            if conjugation not in unique:\n",
    "                                with open(os.path.join(dir, f'{conjugation.replace(\" \", \"_\")}.mp3'), 'wb') as file:\n",
    "                                    file.write( base64.b64decode( b64audio ) )\n",
    "                                    unique.append( conjugation )\n",
    "\n",
    "            print( f'{i + 1} | { ( i + 1 ) * 100 / len( audio ) }%' )"
   ]
  },
  {
   "cell_type": "code",
   "execution_count": null,
   "metadata": {},
   "outputs": [],
   "source": [
    "with open(os.path.join(out_dir, f'infinitives.json'), 'r', encoding = 'utf8') as file:\n",
    "    infinitives = json.loads(file.read())"
   ]
  },
  {
   "cell_type": "code",
   "execution_count": null,
   "metadata": {},
   "outputs": [],
   "source": [
    "for language in infinitives:\n",
    "\n",
    "    print( language )\n",
    "    \n",
    "    audio = infinitives[ language ]\n",
    "\n",
    "    for i , infinitive in enumerate( infinitives[ language ] ):\n",
    "        \n",
    "        if i >= 0:\n",
    "\n",
    "            dir = os.path.join( out_dir, \"mp3\", language, f'{i + 1}_{infinitive}' )\n",
    "            os.mkdir( dir )\n",
    "\n",
    "            b64audio = infinitives[ language ][ infinitive ]\n",
    "\n",
    "            with open(os.path.join(dir, f'{infinitive.replace(\" \", \"_\")}.mp3'), 'wb') as file:\n",
    "                file.write( base64.b64decode( b64audio ) )\n",
    "\n",
    "            print( f'{i + 1} | { ( i + 1 ) * 100 / len( infinitives[ language ] ) }%' )"
   ]
  },
  {
   "cell_type": "code",
   "execution_count": 31,
   "metadata": {},
   "outputs": [],
   "source": [
    "path = os.path.join( top_dir.replace( '/.development/audio/', '' ), \"server\", \"src\", \"static\", \"audio\", \"conjugations\", \"infinitives\" )"
   ]
  },
  {
   "cell_type": "code",
   "execution_count": 32,
   "metadata": {},
   "outputs": [
    {
     "name": "stdout",
     "output_type": "stream",
     "text": [
      "0.01\n",
      "0.02\n",
      "0.03\n",
      "0.04\n",
      "0.05\n",
      "0.06\n",
      "0.07\n",
      "0.08\n",
      "0.09\n",
      "0.1\n",
      "0.11\n",
      "0.12\n"
     ]
    },
    {
     "ename": "FileNotFoundError",
     "evalue": "[Errno 2] No such file or directory: '/Volumes/GoogleDrive-112655887863954804738/My Drive/Code/Projects/conjugo/server/src/static/audio/conjugations/infinitives/spanish/11_pesar/pesar.mp3' -> '/Volumes/GoogleDrive-112655887863954804738/My Drive/Code/Projects/conjugo/server/src/static/audio/conjugations/spanish/11_pesar/pesar.mp3'",
     "output_type": "error",
     "traceback": [
      "\u001b[0;31m---------------------------------------------------------------------------\u001b[0m",
      "\u001b[0;31mFileNotFoundError\u001b[0m                         Traceback (most recent call last)",
      "\u001b[0;32m<ipython-input-32-3903fe85447c>\u001b[0m in \u001b[0;36m<module>\u001b[0;34m\u001b[0m\n\u001b[1;32m      5\u001b[0m         \u001b[0moriginal\u001b[0m \u001b[0;34m=\u001b[0m \u001b[0mos\u001b[0m\u001b[0;34m.\u001b[0m\u001b[0mpath\u001b[0m\u001b[0;34m.\u001b[0m\u001b[0mjoin\u001b[0m\u001b[0;34m(\u001b[0m \u001b[0mroot\u001b[0m\u001b[0;34m,\u001b[0m \u001b[0mfiles\u001b[0m\u001b[0;34m[\u001b[0m\u001b[0;36m0\u001b[0m\u001b[0;34m]\u001b[0m \u001b[0;34m)\u001b[0m\u001b[0;34m\u001b[0m\u001b[0;34m\u001b[0m\u001b[0m\n\u001b[1;32m      6\u001b[0m         \u001b[0mnew\u001b[0m \u001b[0;34m=\u001b[0m \u001b[0;34m(\u001b[0m \u001b[0mos\u001b[0m\u001b[0;34m.\u001b[0m\u001b[0mpath\u001b[0m\u001b[0;34m.\u001b[0m\u001b[0mjoin\u001b[0m\u001b[0;34m(\u001b[0m \u001b[0mroot\u001b[0m\u001b[0;34m.\u001b[0m\u001b[0mreplace\u001b[0m\u001b[0;34m(\u001b[0m \u001b[0;34m\"/infinitives\"\u001b[0m\u001b[0;34m,\u001b[0m \u001b[0;34m\"\"\u001b[0m \u001b[0;34m)\u001b[0m\u001b[0;34m,\u001b[0m \u001b[0mfiles\u001b[0m\u001b[0;34m[\u001b[0m\u001b[0;36m0\u001b[0m\u001b[0;34m]\u001b[0m \u001b[0;34m)\u001b[0m \u001b[0;34m)\u001b[0m\u001b[0;34m\u001b[0m\u001b[0;34m\u001b[0m\u001b[0m\n\u001b[0;32m----> 7\u001b[0;31m         \u001b[0mos\u001b[0m\u001b[0;34m.\u001b[0m\u001b[0mreplace\u001b[0m\u001b[0;34m(\u001b[0m \u001b[0moriginal\u001b[0m\u001b[0;34m,\u001b[0m \u001b[0mnew\u001b[0m \u001b[0;34m)\u001b[0m\u001b[0;34m\u001b[0m\u001b[0;34m\u001b[0m\u001b[0m\n\u001b[0m\u001b[1;32m      8\u001b[0m \u001b[0;34m\u001b[0m\u001b[0m\n\u001b[1;32m      9\u001b[0m     \u001b[0mi\u001b[0m \u001b[0;34m+=\u001b[0m \u001b[0;36m1\u001b[0m\u001b[0;34m\u001b[0m\u001b[0;34m\u001b[0m\u001b[0m\n",
      "\u001b[0;31mFileNotFoundError\u001b[0m: [Errno 2] No such file or directory: '/Volumes/GoogleDrive-112655887863954804738/My Drive/Code/Projects/conjugo/server/src/static/audio/conjugations/infinitives/spanish/11_pesar/pesar.mp3' -> '/Volumes/GoogleDrive-112655887863954804738/My Drive/Code/Projects/conjugo/server/src/static/audio/conjugations/spanish/11_pesar/pesar.mp3'"
     ]
    }
   ],
   "source": [
    "i = 0\n",
    "\n",
    "for root, dirs, files in os.walk( path ):\n",
    "    if not dirs:\n",
    "        original = os.path.join( root, files[0] )\n",
    "        new = ( os.path.join( root.replace( \"/infinitives\", \"\" ), files[0] ) )\n",
    "        os.replace( original, new )\n",
    "    \n",
    "    i += 1\n",
    "\n",
    "    print( i / 100 )"
   ]
  },
  {
   "cell_type": "code",
   "execution_count": null,
   "metadata": {},
   "outputs": [],
   "source": []
  }
 ],
 "metadata": {
  "kernelspec": {
   "display_name": "Python 3.10.1 64-bit",
   "language": "python",
   "name": "python3"
  },
  "language_info": {
   "codemirror_mode": {
    "name": "ipython",
    "version": 3
   },
   "file_extension": ".py",
   "mimetype": "text/x-python",
   "name": "python",
   "nbconvert_exporter": "python",
   "pygments_lexer": "ipython3",
   "version": "3.10.1"
  },
  "orig_nbformat": 4,
  "vscode": {
   "interpreter": {
    "hash": "369f2c481f4da34e4445cda3fffd2e751bd1c4d706f27375911949ba6bb62e1c"
   }
  }
 },
 "nbformat": 4,
 "nbformat_minor": 2
}
