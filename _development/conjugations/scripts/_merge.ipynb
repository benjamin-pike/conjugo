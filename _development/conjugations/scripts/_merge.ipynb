{
 "cells": [
  {
   "cell_type": "code",
   "execution_count": 1,
   "metadata": {},
   "outputs": [],
   "source": [
    "from os import path\n",
    "import json"
   ]
  },
  {
   "cell_type": "code",
   "execution_count": 2,
   "metadata": {},
   "outputs": [],
   "source": [
    "data_dir = path.join(path.abspath('').replace('scripts', ''), 'data')"
   ]
  },
  {
   "cell_type": "code",
   "execution_count": 3,
   "metadata": {},
   "outputs": [],
   "source": [
    "languages = ['spanish', 'french', 'german', 'italian', 'portuguese']\n",
    "infinitives = {}\n",
    "conjugations = {}\n",
    "\n",
    "for language in languages:\n",
    "    with open(path.join(data_dir, 'language-specific', f'infinitives_{language}.json'), 'r', encoding = 'utf8') as i_file:\n",
    "        \n",
    "        loaded_infinitives = json.loads(i_file.read())\n",
    "        infinitives[language] = []\n",
    "\n",
    "        for verb in loaded_infinitives:\n",
    "            if verb[1] <= 2000:\n",
    "                infinitives[language].append(verb)\n",
    "\n",
    "    with open(path.join(data_dir, 'language-specific', f'conjugations_{language}.json'), 'r', encoding = 'utf8') as c_file:\n",
    "        \n",
    "        loaded_conjugations = json.loads(c_file.read())\n",
    "        conjugations[language] = {}\n",
    "\n",
    "        for verb in loaded_conjugations:\n",
    "            if loaded_conjugations[verb]['rank'] <= 2000:\n",
    "                conjugations[language][verb] = loaded_conjugations[verb]"
   ]
  },
  {
   "cell_type": "code",
   "execution_count": 4,
   "metadata": {},
   "outputs": [
    {
     "name": "stdout",
     "output_type": "stream",
     "text": [
      "spanish – 2000\n",
      "spanish – 2000\n",
      "french – 2000\n",
      "french – 2000\n",
      "german – 2000\n",
      "german – 2000\n",
      "italian – 2000\n",
      "italian – 2000\n",
      "portuguese – 2000\n",
      "portuguese – 2000\n"
     ]
    }
   ],
   "source": [
    "for language in languages:\n",
    "    print(f'{language} – {len(infinitives[language])}')\n",
    "    print(f'{language} – {len(conjugations[language])}')"
   ]
  },
  {
   "cell_type": "code",
   "execution_count": 5,
   "metadata": {},
   "outputs": [],
   "source": [
    "i_file = path.join(data_dir, 'infinitives.json')\n",
    "c_file = path.join(data_dir, 'conjugations.json')\n",
    "\n",
    "with open(i_file, \"w\", encoding = 'utf8') as file:\n",
    "    json.dump(infinitives, file, indent = 4, ensure_ascii = False)\n",
    "\n",
    "with open(c_file, \"w\", encoding = 'utf8') as file:\n",
    "    json.dump(conjugations, file, indent = 4, ensure_ascii = False)"
   ]
  }
 ],
 "metadata": {
  "interpreter": {
   "hash": "9596ba951ddb21d01b6d37648fb60066e40c7f4a0a12dddda8d43c6adacb1362"
  },
  "kernelspec": {
   "display_name": "Python 3.8.8 ('base')",
   "language": "python",
   "name": "python3"
  },
  "language_info": {
   "codemirror_mode": {
    "name": "ipython",
    "version": 3
   },
   "file_extension": ".py",
   "mimetype": "text/x-python",
   "name": "python",
   "nbconvert_exporter": "python",
   "pygments_lexer": "ipython3",
   "version": "3.8.8"
  },
  "orig_nbformat": 4
 },
 "nbformat": 4,
 "nbformat_minor": 2
}
