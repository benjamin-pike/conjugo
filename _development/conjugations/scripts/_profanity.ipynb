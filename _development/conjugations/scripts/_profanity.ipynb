{
 "cells": [
  {
   "cell_type": "code",
   "execution_count": 1,
   "metadata": {},
   "outputs": [],
   "source": [
    "from profanity_filter import ProfanityFilter\n",
    "import json"
   ]
  },
  {
   "cell_type": "code",
   "execution_count": 2,
   "metadata": {},
   "outputs": [],
   "source": [
    "language = 'portuguese'\n",
    "pf = ProfanityFilter()"
   ]
  },
  {
   "cell_type": "code",
   "execution_count": 3,
   "metadata": {},
   "outputs": [],
   "source": [
    "with open(f'../data/conjugations_{language}.json', 'r') as file:\n",
    "    conjugations = json.loads(file.read())"
   ]
  },
  {
   "cell_type": "code",
   "execution_count": null,
   "metadata": {},
   "outputs": [],
   "source": [
    "remove = []\n",
    "rank = 1\n",
    "\n",
    "for verb in conjugations:\n",
    "    if isinstance(conjugations[verb]['translations'][0], str) == False:\n",
    "        remove.append(verb)\n",
    "    else:\n",
    "        conjugations[verb]['rank'] = rank\n",
    "        rank += 1\n",
    "\n",
    "for verb in remove:\n",
    "    conjugations.pop(verb)\n",
    "\n",
    "print(f'{len(conjugations) + len(remove)} -> {len(conjugations)}')"
   ]
  },
  {
   "cell_type": "code",
   "execution_count": null,
   "metadata": {},
   "outputs": [],
   "source": [
    "logged = []\n",
    "\n",
    "for verb in conjugations:\n",
    "    count = 0\n",
    "    total = 0\n",
    "    profane = []\n",
    "    accepted = []\n",
    "    primary = False\n",
    "\n",
    "    for i in range(0, len(conjugations[verb]['translations'])):\n",
    "        original = conjugations[verb]['translations'][i]\n",
    "        censored = pf.censor(original)\n",
    "\n",
    "        if '*' in censored:\n",
    "            profane.append(original)\n",
    "            count += 1\n",
    "\n",
    "            if i == 0:\n",
    "                primary = True\n",
    "\n",
    "        else:\n",
    "            accepted.append(original)\n",
    "\n",
    "        total += 1\n",
    "    \n",
    "    if count:\n",
    "        logged.append({'verb': verb, 'primary': primary, 'count': count, 'total': total, \n",
    "                       'percentage': count/total, 'profane': profane, 'accepted': accepted})\n",
    "        \n",
    "        print(verb)"
   ]
  },
  {
   "cell_type": "code",
   "execution_count": null,
   "metadata": {},
   "outputs": [],
   "source": [
    "logged"
   ]
  },
  {
   "cell_type": "code",
   "execution_count": null,
   "metadata": {},
   "outputs": [],
   "source": [
    "for item in logged:\n",
    "    conjugations[item['verb']]['translations'] = item['accepted']"
   ]
  },
  {
   "cell_type": "code",
   "execution_count": null,
   "metadata": {},
   "outputs": [],
   "source": [
    "for item in logged:\n",
    "    if item['primary'] or item['percentage'] >= 0.3:\n",
    "        conjugations.pop(item['verb'])"
   ]
  },
  {
   "cell_type": "code",
   "execution_count": null,
   "metadata": {},
   "outputs": [],
   "source": [
    "for verb in conjugations:\n",
    "    for i in range(0, len(conjugations[verb]['translations'])):\n",
    "        conjugations[verb]['translations'][i] = conjugations[verb]['translations'][i].replace(';','')"
   ]
  },
  {
   "cell_type": "code",
   "execution_count": null,
   "metadata": {},
   "outputs": [],
   "source": [
    "empty = []\n",
    "\n",
    "for verb in conjugations:\n",
    "    remove = []\n",
    "\n",
    "    for i in range(0, len(conjugations[verb]['translations'])):\n",
    "        translation = conjugations[verb]['translations'][i]\n",
    "        if translation.replace(' ', '').replace(\"'\",'').replace('-','').isalpha() == False:\n",
    "            remove.append(translation)\n",
    "    \n",
    "    for translation in remove:\n",
    "        conjugations[verb]['translations'].remove(translation)\n",
    "\n",
    "    if conjugations[verb]['translations'] == []:\n",
    "        empty.append(verb)\n",
    "\n",
    "print(empty)"
   ]
  },
  {
   "cell_type": "code",
   "execution_count": null,
   "metadata": {},
   "outputs": [],
   "source": [
    "for verb in empty:\n",
    "    conjugations.pop(verb)"
   ]
  },
  {
   "cell_type": "code",
   "execution_count": null,
   "metadata": {},
   "outputs": [],
   "source": [
    "rank = 1\n",
    "\n",
    "for verb in conjugations:\n",
    "    conjugations[verb]['rank'] = rank\n",
    "    rank += 1"
   ]
  },
  {
   "cell_type": "code",
   "execution_count": null,
   "metadata": {},
   "outputs": [],
   "source": [
    "for verb in conjugations:\n",
    "    for i in range(0, len(conjugations[verb]['translations'])):\n",
    "        if conjugations[verb]['translations'][i][:3] == 'to ':\n",
    "            print(verb, conjugations[verb]['translations'][i])\n",
    "            conjugations[verb]['translations'][i] = conjugations[verb]['translations'][i][3:]"
   ]
  },
  {
   "cell_type": "code",
   "execution_count": null,
   "metadata": {},
   "outputs": [],
   "source": [
    "for verb in conjugations:\n",
    "    \n",
    "    replace = []\n",
    "\n",
    "    for i in range(0, len(conjugations[verb]['translations'])):\n",
    "        for letter in conjugations[verb]['translations'][i]:\n",
    "            if letter.isupper() and conjugations[verb]['translations'][i] != 'Cameltoe':\n",
    "                replace.append((i, conjugations[verb]['translations'][i].lower()))\n",
    "                break\n",
    "    \n",
    "    if replace:\n",
    "\n",
    "        print(verb, replace)\n",
    "\n",
    "        for entry in replace:\n",
    "            index,translation = entry\n",
    "            conjugations[verb]['translations'][index] = translation\n",
    "\n",
    "    if 'Cameltoe' in conjugations[verb]['translations']:\n",
    "        conjugations[verb]['translations'].remove('Cameltoe')"
   ]
  },
  {
   "cell_type": "code",
   "execution_count": 4,
   "metadata": {},
   "outputs": [
    {
     "name": "stdout",
     "output_type": "stream",
     "text": [
      "petar 2301 ['petar']\n",
      "rendar 4023 ['rendar']\n"
     ]
    }
   ],
   "source": [
    "remove = []\n",
    "\n",
    "for verb in conjugations:\n",
    "    if len(conjugations[verb]['translations']) == 1:\n",
    "        if verb == conjugations[verb]['translations'][0]:\n",
    "            print(verb, conjugations[verb]['rank'], conjugations[verb]['translations'])\n",
    "            remove.append(verb)"
   ]
  },
  {
   "cell_type": "code",
   "execution_count": 5,
   "metadata": {},
   "outputs": [],
   "source": [
    "rank = 1\n",
    "\n",
    "for verb in remove:\n",
    "    conjugations.pop(verb)\n",
    "\n",
    "for verb in conjugations:\n",
    "    conjugations[verb]['rank'] = rank\n",
    "    rank += 1"
   ]
  },
  {
   "cell_type": "code",
   "execution_count": null,
   "metadata": {},
   "outputs": [],
   "source": [
    "remove = {\n",
    "    'spanish': ['calendar', 'guitar', 'layar', 'puar']\n",
    "}\n",
    "\n",
    "replace = {\n",
    "    'spanish': {'sanjar': ['cure', 'heal']}\n",
    "}\n",
    "\n",
    "rank = 1"
   ]
  },
  {
   "cell_type": "code",
   "execution_count": null,
   "metadata": {},
   "outputs": [],
   "source": [
    "for verb in remove[language]:\n",
    "    conjugations.pop(verb)\n",
    "\n",
    "for verb in replace[language]:\n",
    "    conjugations[verb]['translations'] = replace[language][verb]\n",
    "\n",
    "for verb in conjugations:\n",
    "    conjugations[verb]['rank'] = rank\n",
    "    rank += 1"
   ]
  },
  {
   "cell_type": "code",
   "execution_count": 6,
   "metadata": {},
   "outputs": [],
   "source": [
    "f = f'../data/conjugations_{language}.json'\n",
    "with open(f, \"w\", encoding = 'utf8') as file:\n",
    "    json.dump(conjugations, file, indent = 4, ensure_ascii = False)"
   ]
  },
  {
   "cell_type": "code",
   "execution_count": 7,
   "metadata": {},
   "outputs": [],
   "source": [
    "infinitives = []\n",
    "\n",
    "for verb in conjugations:\n",
    "    infinitives.append([verb, conjugations[verb]['rank'], conjugations[verb]['regularity']])\n",
    "\n",
    "f = f'../data/infinitives_{language}.json'\n",
    "with open(f, \"w\", encoding = 'utf8') as file:\n",
    "    json.dump(infinitives, file, indent = 4, ensure_ascii = False)"
   ]
  }
 ],
 "metadata": {
  "interpreter": {
   "hash": "9596ba951ddb21d01b6d37648fb60066e40c7f4a0a12dddda8d43c6adacb1362"
  },
  "kernelspec": {
   "display_name": "Python 3.8.8 ('base')",
   "language": "python",
   "name": "python3"
  },
  "language_info": {
   "codemirror_mode": {
    "name": "ipython",
    "version": 3
   },
   "file_extension": ".py",
   "mimetype": "text/x-python",
   "name": "python",
   "nbconvert_exporter": "python",
   "pygments_lexer": "ipython3",
   "version": "3.8.8"
  },
  "orig_nbformat": 4
 },
 "nbformat": 4,
 "nbformat_minor": 2
}
