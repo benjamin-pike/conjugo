{
 "cells": [
  {
   "cell_type": "code",
   "execution_count": 1,
   "metadata": {},
   "outputs": [],
   "source": [
    "import os\n",
    "import json"
   ]
  },
  {
   "cell_type": "code",
   "execution_count": 2,
   "metadata": {},
   "outputs": [],
   "source": [
    "path_conjugations = os.path.join(os.curdir, 'conjugations', 'data', 'language-specific')\n",
    "path_translations = os.path.join(os.curdir, 'translations', 'out')\n",
    "path_audio = os.path.join(os.curdir, 'audio', 'out')"
   ]
  },
  {
   "cell_type": "code",
   "execution_count": 3,
   "metadata": {},
   "outputs": [],
   "source": [
    "output = []"
   ]
  },
  {
   "cell_type": "code",
   "execution_count": 9,
   "metadata": {},
   "outputs": [
    {
     "name": "stdout",
     "output_type": "stream",
     "text": [
      "6783 2100 2000\n",
      "5874 2100 2000\n",
      "6049 2100 2000\n",
      "5064 2100 2000\n"
     ]
    },
    {
     "ename": "",
     "evalue": "",
     "output_type": "error",
     "traceback": [
      "The Kernel crashed while executing code in the the current cell or a previous cell. Please review the code in the cell(s) to identify a possible cause of the failure. Click <a href='https://aka.ms/vscodeJupyterKernelCrash'>here</a> for more info. View Jupyter <a href='command:jupyter.viewOutput'>log</a> for further details."
     ]
    },
    {
     "ename": "",
     "evalue": "",
     "output_type": "error",
     "traceback": [
      "\u001b[1;31mCanceled future for execute_request message before replies were done"
     ]
    }
   ],
   "source": [
    "for language in ['spanish', 'french', 'german', 'italian', 'portuguese']:\n",
    "    with open(os.path.join(path_conjugations, f'conjugations_{language}.json'), 'r', encoding = 'utf8') as file:\n",
    "        conjugations = json.loads(file.read())\n",
    "        # conjugations = {verb: raw[verb] for verb in raw}\n",
    "\n",
    "    with open(os.path.join(path_translations, f'translations_{language}_v2.json'), 'r', encoding = 'utf8') as file:\n",
    "        translations = json.loads(file.read())\n",
    "\n",
    "    with open(os.path.join(path_audio, f'audio_{language}.json'), 'r', encoding = 'utf8') as file:\n",
    "        audios = json.loads(file.read())\n",
    "\n",
    "    i = 0\n",
    "    rank = 1\n",
    "\n",
    "    print(len(conjugations), len(translations), len(audios))\n",
    "\n",
    "    # for verb in conjugations:\n",
    "    while rank <= 2000:\n",
    "\n",
    "        verb = list(conjugations.keys())[ i ]\n",
    "                \n",
    "        if verb in translations and verb in audios:\n",
    "            output.append(\n",
    "                {\n",
    "                    '_id': f'{language}_{verb}',\n",
    "                    'language': language,\n",
    "                    'verb': verb,\n",
    "                    'rank': rank,\n",
    "                    'conjugations': conjugations[verb],\n",
    "                    'translations': translations[verb],\n",
    "                    'audio': audios[verb]\n",
    "                }\n",
    "            )\n",
    "\n",
    "            rank += 1\n",
    "        \n",
    "        i += 1\n",
    "\n",
    "        if i == len(conjugations):\n",
    "            break"
   ]
  },
  {
   "cell_type": "code",
   "execution_count": null,
   "metadata": {},
   "outputs": [],
   "source": [
    "for verb in output:\n",
    "    print(verb[\"verb\"], verb[\"rank\"])"
   ]
  },
  {
   "cell_type": "code",
   "execution_count": null,
   "metadata": {},
   "outputs": [],
   "source": [
    "with open(f'data_array.json', 'w', encoding = 'utf8') as file:\n",
    "    json.dump(output, file, indent = 4, ensure_ascii = False)"
   ]
  },
  {
   "cell_type": "markdown",
   "metadata": {},
   "source": [
    "---------------------------------------------------------------------------------------"
   ]
  },
  {
   "cell_type": "code",
   "execution_count": null,
   "metadata": {},
   "outputs": [],
   "source": [
    "standard = \"abcdefghijklmnopqrstuvwxyz\"\n",
    "\n",
    "# for language in ['spanish', 'french', 'german', 'italian', 'portuguese']:\n",
    "for language in ['spanish']:\n",
    "    with open(os.path.join(path_conjugations, f'conjugations_{language}.json'), 'r', encoding = 'utf8') as file:\n",
    "        raw = json.loads(file.read())\n",
    "        conjugations = {verb: raw[verb] for verb in raw if raw[verb]['rank'] <= 2000}\n",
    "\n",
    "        special = ['á', 'é', 'í', 'ñ', 'ó', 'ú']\n",
    "\n",
    "        for verb in conjugations:\n",
    "            for complexity in [ \"simple\", \"compound\" ]:\n",
    "                for mood in conjugations[verb][complexity]:\n",
    "                    for tense in conjugations[verb][complexity][mood]:\n",
    "                        for subject in conjugations[verb][complexity][mood][tense]:\n",
    "                            for char in conjugations[verb][complexity][mood][tense][subject]:\n",
    "                                if char.isalpha() and char != \" \" and char not in standard and char not in special:\n",
    "                                    special.append(char)\n",
    "                                    print( conjugations[verb][complexity][mood][tense][subject] )\n",
    "\n",
    "        special.sort()\n",
    "        print(f'{language}: {special},')"
   ]
  },
  {
   "cell_type": "code",
   "execution_count": null,
   "metadata": {},
   "outputs": [],
   "source": []
  }
 ],
 "metadata": {
  "interpreter": {
   "hash": "9596ba951ddb21d01b6d37648fb60066e40c7f4a0a12dddda8d43c6adacb1362"
  },
  "kernelspec": {
   "display_name": "Python 3.8.8 ('base')",
   "language": "python",
   "name": "python3"
  },
  "language_info": {
   "codemirror_mode": {
    "name": "ipython",
    "version": 3
   },
   "file_extension": ".py",
   "mimetype": "text/x-python",
   "name": "python",
   "nbconvert_exporter": "python",
   "pygments_lexer": "ipython3",
   "version": "3.8.8"
  },
  "orig_nbformat": 4
 },
 "nbformat": 4,
 "nbformat_minor": 2
}
