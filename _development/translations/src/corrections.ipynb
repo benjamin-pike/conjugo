{
 "cells": [
  {
   "cell_type": "code",
   "execution_count": null,
   "metadata": {},
   "outputs": [],
   "source": [
    "import os\n",
    "import bs4\n",
    "import json\n",
    "import time\n",
    "import lxml\n",
    "import deepl\n",
    "import requests\n",
    "import cloudscraper\n",
    "from pathlib import Path\n",
    "from copy import deepcopy\n",
    "from googletrans import Translator\n",
    "from difflib import SequenceMatcher\n",
    "from fake_useragent import UserAgent\n",
    "from IPython.display import clear_output as clear"
   ]
  },
  {
   "cell_type": "code",
   "execution_count": null,
   "metadata": {},
   "outputs": [],
   "source": [
    "ua = UserAgent()\n",
    "translator = Translator()\n",
    "dl_translator = deepl.Translator(\"4a2f6ee1-0d7a-8c77-9b1d-9476a086f204:fx\")"
   ]
  },
  {
   "cell_type": "code",
   "execution_count": null,
   "metadata": {},
   "outputs": [],
   "source": [
    "path = os.path.abspath('').replace('src', '')\n",
    "top_dir = Path(path).parent.absolute()\n",
    "conjugations_data_dir = os.path.join(top_dir, 'conjugations', 'data', 'language-specific')\n",
    "out_dir = os.path.join(path, 'out')"
   ]
  },
  {
   "cell_type": "code",
   "execution_count": null,
   "metadata": {},
   "outputs": [],
   "source": [
    "headers = {\"accept\": \"text/html,application/xhtml+xml,application/xml;q=0.9,image/avif,image/webp,image/apng,*/*;q=0.8,application/signed-exchange;v=b3;q=0.9\",\n",
    "           \"accept-encoding\": \"gzip, deflate, br\",\n",
    "           \"accept-language\": \"en-GB,en;q=0.9,es-ES;q=0.8,es;q=0.7,en-US;q=0.6,eu;q=0.5\",\n",
    "           \"cache-control\": \"max-age=0\",\n",
    "           \"cookie\": \"t=238707487; _ga=GA1.2.1376835774.1641262578; _gid=GA1.2.1482423077.1641262578; _fbp=fb.1.1641262579526.851471446\",\n",
    "           \"referer\": \"https://hidemy.name/en/proxy-list/?start=64\",\n",
    "           \"sec-ch-ua-mobile\": \"?0\",\n",
    "           \"sec-ch-ua-platform\": \"macOS\",\n",
    "           \"sec-fetch-dest\": \"document\",\n",
    "           \"sec-fetch-mode\": \"navigate\",\n",
    "           \"sec-fetch-site\": \"same-origin\",\n",
    "           \"sec-fetch-user\": \"?1\",\n",
    "           \"upgrade-insecure-requests\": \"1\",\n",
    "           \"user-agent\": \"Mozilla/5.0 (Macintosh; Intel Mac OS X 10_15_7) AppleWebKit/537.36 (KHTML, like Gecko) Chrome/96.0.4664.110 Safari/537.36\"}"
   ]
  },
  {
   "cell_type": "code",
   "execution_count": null,
   "metadata": {},
   "outputs": [],
   "source": [
    "language = 'spanish'"
   ]
  },
  {
   "cell_type": "code",
   "execution_count": null,
   "metadata": {},
   "outputs": [],
   "source": [
    "with open(os.path.join(out_dir, 'graded', f'translations_{language}.json'), 'r', encoding = 'utf8') as file:\n",
    "    translations = json.loads(file.read())\n",
    "\n",
    "with open(os.path.join(conjugations_data_dir, f'conjugations_{language}.json'), 'r', encoding = 'utf8') as file:\n",
    "    conjugations = json.loads(file.read())"
   ]
  },
  {
   "cell_type": "code",
   "execution_count": null,
   "metadata": {},
   "outputs": [],
   "source": [
    "output = { verb: {} for verb in translations }"
   ]
  },
  {
   "cell_type": "code",
   "execution_count": null,
   "metadata": {},
   "outputs": [],
   "source": [
    "if language == \"italian\":\n",
    "    translations.pop( \"ridefinire\" )"
   ]
  },
  {
   "cell_type": "code",
   "execution_count": null,
   "metadata": {},
   "outputs": [],
   "source": [
    "modal_verbs = ['can', 'could', 'may', 'might', 'must', 'shall', 'should', 'will', 'would']\n",
    "translations = {verb: {'metadata': translations[verb]['metadata'], 'weighted': translations[verb]['weighted']} for verb in translations}"
   ]
  },
  {
   "cell_type": "code",
   "execution_count": null,
   "metadata": {},
   "outputs": [],
   "source": [
    "for verb in translations:\n",
    "    if translations[verb]['metadata']['principal'] not in translations[verb]['weighted']:\n",
    "        if translations[verb]['metadata']['principal'] + ' to' in translations[verb]['weighted']:\n",
    "            translations[verb]['metadata']['principal'] += ' to'\n",
    "    \n",
    "    if translations[verb]['metadata']['consensus'] not in translations[verb]['weighted']:\n",
    "        if translations[verb]['metadata']['consensus'] + ' to' in translations[verb]['weighted']:\n",
    "            translations[verb]['metadata']['consensus'] += ' to'\n",
    "    \n",
    "    if translations[verb]['metadata']['principal'] not in translations[verb]['weighted']:\n",
    "        if translations[verb]['metadata']['principal'][-3:] == ' to' and translations[verb]['metadata']['principal'][:-3] in translations[verb]['weighted']:\n",
    "            translations[verb]['metadata']['principal'] = translations[verb]['metadata']['principal'][:-3] \n",
    "    \n",
    "    if translations[verb]['metadata']['consensus'] not in translations[verb]['weighted']:\n",
    "        if translations[verb]['metadata']['consensus'][-3:] == ' to' and translations[verb]['metadata']['consensus'][:-3] in translations[verb]['weighted']:\n",
    "            translations[verb]['metadata']['consensus'] = translations[verb]['metadata']['consensus'][:-3] "
   ]
  },
  {
   "cell_type": "code",
   "execution_count": null,
   "metadata": {},
   "outputs": [],
   "source": [
    "def normalize(infinitive):    \n",
    "    principal = translations[infinitive]['metadata']['principal']\n",
    "    check = { 'unique': [], 'duplicates': [] }\n",
    "    similar = { 'retain': [], 'discard': [] }\n",
    "\n",
    "    heaviest_verb = list(translations[infinitive]['weighted'].keys())[0]\n",
    "    heaviest_weight = translations[infinitive]['weighted'][heaviest_verb]\n",
    "        \n",
    "    if principal != heaviest_verb:\n",
    "        translations[infinitive]['weighted'][principal] = heaviest_weight + 1\n",
    "        heaviest_weight += 1\n",
    "\n",
    "    formatted = deepcopy(translations[infinitive]['weighted'])\n",
    "\n",
    "    formatted = dict(sorted(formatted.items(), key = lambda item: item[1])[::-1])\n",
    "\n",
    "    if principal != list(formatted.keys())[0]:\n",
    "        formatted = {**{principal: formatted[principal]}, **{translation: formatted[translation] for translation in formatted if translation != principal}}\n",
    "\n",
    "    for candidate in formatted:\n",
    "        for existing in check['unique']:\n",
    "            if candidate in existing or existing in candidate:\n",
    "                check['duplicates'].append(candidate)\n",
    "                break\n",
    "        if candidate not in check['duplicates']:\n",
    "            check['unique'].append(candidate)\n",
    "\n",
    "    for duplicate in check['duplicates']:\n",
    "        formatted.pop(duplicate)\n",
    "\n",
    "    for c1 in formatted:\n",
    "        if c1 not in similar['discard']:\n",
    "            for c2 in formatted:\n",
    "                if c1 != c2 and c2 not in similar['retain'] and c2 not in similar['discard']:\n",
    "                    if SequenceMatcher(None, c1, c2).ratio() > 0.75:\n",
    "                        formatted[c1] += formatted[c2]\n",
    "\n",
    "                        if formatted[c1] > heaviest_weight:\n",
    "                            principal = c1\n",
    "                            heaviest_weight = formatted[c1]\n",
    "\n",
    "                        similar['discard'].append(c2)\n",
    "\n",
    "    for similar in similar['discard']:\n",
    "        formatted.pop(similar)\n",
    "\n",
    "    formatted = dict(sorted(formatted.items(), key = lambda item: item[1])[::-1])\n",
    "\n",
    "    output[infinitive]['principal'] = principal\n",
    "    output[infinitive]['weighted'] = { translation: round(formatted[translation] / heaviest_weight, 4)  for translation in formatted }"
   ]
  },
  {
   "cell_type": "code",
   "execution_count": null,
   "metadata": {},
   "outputs": [],
   "source": [
    "def getCollinsTranslations(verb, language):\n",
    "\n",
    "    translations = []\n",
    "\n",
    "    try:\n",
    "        url = f'https://www.collinsdictionary.com/dictionary/{language}-english/{verb}'\n",
    "        scraper = cloudscraper.create_scraper(\n",
    "            browser={\n",
    "                'browser': 'firefox',\n",
    "                'platform': 'windows',\n",
    "                'mobile': False\n",
    "            })\n",
    "        soup = bs4.BeautifulSoup(scraper.get(url, headers = {\"useragent\": f\"{ua.random}\"}).text, 'lxml')\n",
    "\n",
    "        if 'Cloudflare' not in soup.select('title')[0].getText():\n",
    "\n",
    "            for translation in soup.select('.page .dictionary .sense:not(.type-example)>.cit.type-translation .quote'):\n",
    "                if translation.getText().strip()[:3] == 'to ':\n",
    "                    translations.append(translation.getText().strip())\n",
    "\n",
    "    except:\n",
    "        pass\n",
    "\n",
    "\n",
    "    return translations"
   ]
  },
  {
   "cell_type": "code",
   "execution_count": null,
   "metadata": {},
   "outputs": [],
   "source": [
    "def getWiktionaryTranslations(verb, language):\n",
    "    translations = []\n",
    "\n",
    "    page = requests.get(f'https://en.wiktionary.org/wiki/{verb}#{language.capitalize()}')\n",
    "    section = page.text.split(f'<h2><span class=\"mw-headline\" id=\"{language.capitalize()}\">')[1].split('<h2>')[0]\n",
    "    soup = bs4.BeautifulSoup(section, 'lxml')\n",
    "\n",
    "    for ol in soup.select('ol'):\n",
    "        for li in ol.select('li'):\n",
    "            translation = li.getText().split(') ')[1].split(' (')[0].split('\\n')[0]\n",
    "            translations.append(translation)\n",
    "\n",
    "    return translations"
   ]
  },
  {
   "cell_type": "code",
   "execution_count": null,
   "metadata": {},
   "outputs": [],
   "source": [
    "def getWordReferenceTranslation(verb, language):\n",
    "    translations = []\n",
    "\n",
    "    lang = {'spanish': 'spen', 'french': 'fren', 'german': 'deen', 'italian': 'iten', 'portuguese': 'pten'}\n",
    "    page = requests.get(f'https://www.wordreference.com/{lang[language]}/{verb}')\n",
    "    soup = bs4.BeautifulSoup(page.text, 'lxml')\n",
    "\n",
    "    for section in soup.select('.WRD'):\n",
    "\n",
    "        append = False\n",
    "\n",
    "        for row in section.find_all(\"tr\", class_ = ['even','odd']):\n",
    "            \n",
    "            if row.select('.ToWrd'):\n",
    "            \n",
    "                if row.select('.FrWrd'):\n",
    "                    origin = row.select('.FrWrd')[0]\n",
    "                    \n",
    "                    if origin.select('strong')[0].getText() == verb and origin.select('em')[0].getText().lower()[0] == 'v':\n",
    "                        append = True\n",
    "                    else:\n",
    "                        append = False\n",
    "                                \n",
    "                if append and row.select('.ToWrd'):\n",
    "                    raw = row.select('.ToWrd')[0].getText()\n",
    "\n",
    "                    if row.select('.ToWrd')[0].select('em')[0].getText()[0] == 'v':\n",
    "                        translation = raw.split('⇒')[0].split(' v ')[0].split(' vi ')[0].split(' vtr ')[0]\n",
    "                        translations.append(translation)\n",
    "\n",
    "    return translations"
   ]
  },
  {
   "cell_type": "code",
   "execution_count": null,
   "metadata": {},
   "outputs": [],
   "source": [
    "modals = []\n",
    "modals_principal = []\n",
    "\n",
    "for verb in translations:\n",
    "    output[verb] = {}\n",
    "    \n",
    "    if translations[verb]['metadata']['principal'] in modal_verbs:\n",
    "        modals_principal.append( (verb, conjugations[verb]['rank']) )\n",
    "    for translation in translations[verb]['weighted']:\n",
    "        if translation in modal_verbs:\n",
    "            modals.append( (verb, conjugations[verb]['rank']) )\n",
    "            break"
   ]
  },
  {
   "cell_type": "code",
   "execution_count": null,
   "metadata": {},
   "outputs": [],
   "source": [
    "for verb in modals:\n",
    "    infinitive,rank = verb\n",
    "\n",
    "    for modal in modal_verbs:\n",
    "        if modal in translations[infinitive]['weighted']:\n",
    "            translations[infinitive]['weighted'].pop(modal)\n",
    "\n",
    "for verb in modals_principal:\n",
    "    infinitive,rank = verb\n",
    "\n",
    "    translations[infinitive]['metadata']['principal'] = translations[infinitive]['metadata']['consensus']\n",
    "\n",
    "for verb in modals:\n",
    "    normalize(verb)\n",
    "\n",
    "# print(output)"
   ]
  },
  {
   "cell_type": "code",
   "execution_count": null,
   "metadata": {},
   "outputs": [],
   "source": [
    "disagree = [(verb, conjugations[verb]['rank']) for verb in translations if translations[verb]['metadata']['principal'] != translations[verb]['metadata']['consensus']]"
   ]
  },
  {
   "cell_type": "code",
   "execution_count": null,
   "metadata": {},
   "outputs": [],
   "source": [
    "context = {}\n",
    "\n",
    "for i in range(0, len(disagree)):\n",
    "\n",
    "    verb,rank = disagree[i]\n",
    "\n",
    "    context[verb] = {}\n",
    "\n",
    "    context[verb]['selected'] = ''\n",
    "\n",
    "    context[verb]['principal'] = translations[verb]['metadata']['principal']\n",
    "    context[verb]['primaries'] = translations[verb]['metadata']['primaries']\n",
    "\n",
    "    try: context[verb]['collins'] = getCollinsTranslations(verb, language)[:5]\n",
    "    except: pass\n",
    "    \n",
    "    try: context[verb]['wiktionary'] = getWiktionaryTranslations(verb, language)[:5]\n",
    "    except: pass\n",
    "\n",
    "    try: context[verb]['wordreference'] = getWordReferenceTranslation(verb, language)[:5]\n",
    "    except: pass\n",
    "\n",
    "    clear(); print(f'{verb} ({round(((i + 1)/len(disagree)) * 100, 3)}%)')"
   ]
  },
  {
   "cell_type": "code",
   "execution_count": null,
   "metadata": {},
   "outputs": [],
   "source": [
    "with open(os.path.join(path, 'corrections', 'details', f'corrections_{language}.json'), 'w', encoding = 'utf8') as file:\n",
    "    json.dump(context, file, indent = 4, ensure_ascii = False)"
   ]
  }
 ],
 "metadata": {
  "kernelspec": {
   "display_name": "Python 3.10.1 64-bit",
   "language": "python",
   "name": "python3"
  },
  "language_info": {
   "codemirror_mode": {
    "name": "ipython",
    "version": 3
   },
   "file_extension": ".py",
   "mimetype": "text/x-python",
   "name": "python",
   "nbconvert_exporter": "python",
   "pygments_lexer": "ipython3",
   "version": "3.10.1"
  },
  "orig_nbformat": 4,
  "vscode": {
   "interpreter": {
    "hash": "369f2c481f4da34e4445cda3fffd2e751bd1c4d706f27375911949ba6bb62e1c"
   }
  }
 },
 "nbformat": 4,
 "nbformat_minor": 2
}
